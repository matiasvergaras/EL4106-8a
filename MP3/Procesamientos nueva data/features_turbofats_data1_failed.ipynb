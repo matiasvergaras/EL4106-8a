{
  "nbformat": 4,
  "nbformat_minor": 0,
  "metadata": {
    "colab": {
      "name": "features_with_turbofats_DATA_1.ipynb",
      "provenance": []
    },
    "kernelspec": {
      "name": "python3",
      "display_name": "Python 3"
    },
    "language_info": {
      "name": "python"
    }
  },
  "cells": [
    {
      "cell_type": "markdown",
      "metadata": {
        "id": "WzBfQW4YyAs4"
      },
      "source": [
        "# Extracción de características\n",
        "## Inteligencia Computacional 2021-2, Grupo 8a\n",
        "Nicolás Canales, Matías Vergara\n",
        "\n",
        "Este notebook es una reproducción del trabajo realizado por Ignacio Reyes Jainaga, miembro del equipo del broker astronómico ALeRCE. Dicha obra es pública y se encuentra en github: https://github.com/alercebroker/lc_classifier/blob/main/examples/feature_extraction.ipynb\n"
      ]
    },
    {
      "cell_type": "markdown",
      "metadata": {
        "id": "5FsLGVBzynlp"
      },
      "source": [
        "### Instalación de dependencias"
      ]
    },
    {
      "cell_type": "code",
      "metadata": {
        "colab": {
          "base_uri": "https://localhost:8080/"
        },
        "id": "553p2eU13Yfh",
        "outputId": "482e342a-d551-4e4c-ed33-75e5bb1b66f9"
      },
      "source": [
        "# pyarrow might be needed to read the data\n",
        "!python -m pip install Cython\n",
        "!python -m pip install -e git+https://git@github.com/alercebroker/turbo-fats#egg=turbofats\n",
        "!python -m pip install -e git+https://git@github.com/alercebroker/mhps#egg=mhps\n",
        "!python -m pip install -e git+https://git@github.com/alercebroker/P4J#egg=P4J\n",
        "!python -m pip install pyarrow\n",
        "!python -m pip install -e git+https://git@github.com/alercebroker/lc_classifier#egg=lc_classifier"
      ],
      "execution_count": null,
      "outputs": [
        {
          "output_type": "stream",
          "name": "stdout",
          "text": [
            "Requirement already satisfied: Cython in /usr/local/lib/python3.7/dist-packages (0.29.24)\n",
            "Obtaining turbofats from git+https://****@github.com/alercebroker/turbo-fats#egg=turbofats\n",
            "  Cloning https://****@github.com/alercebroker/turbo-fats to ./src/turbofats\n",
            "  Running command git clone -q 'https://****@github.com/alercebroker/turbo-fats' /content/src/turbofats\n",
            "Requirement already satisfied: numpy in /usr/local/lib/python3.7/dist-packages (from turbofats) (1.19.5)\n",
            "Requirement already satisfied: numba in /usr/local/lib/python3.7/dist-packages (from turbofats) (0.51.2)\n",
            "Requirement already satisfied: scipy in /usr/local/lib/python3.7/dist-packages (from turbofats) (1.4.1)\n",
            "Requirement already satisfied: statsmodels in /usr/local/lib/python3.7/dist-packages (from turbofats) (0.10.2)\n",
            "Requirement already satisfied: llvmlite<0.35,>=0.34.0.dev0 in /usr/local/lib/python3.7/dist-packages (from numba->turbofats) (0.34.0)\n",
            "Requirement already satisfied: setuptools in /usr/local/lib/python3.7/dist-packages (from numba->turbofats) (57.4.0)\n",
            "Requirement already satisfied: patsy>=0.4.0 in /usr/local/lib/python3.7/dist-packages (from statsmodels->turbofats) (0.5.2)\n",
            "Requirement already satisfied: pandas>=0.19 in /usr/local/lib/python3.7/dist-packages (from statsmodels->turbofats) (1.1.5)\n",
            "Requirement already satisfied: python-dateutil>=2.7.3 in /usr/local/lib/python3.7/dist-packages (from pandas>=0.19->statsmodels->turbofats) (2.8.2)\n",
            "Requirement already satisfied: pytz>=2017.2 in /usr/local/lib/python3.7/dist-packages (from pandas>=0.19->statsmodels->turbofats) (2018.9)\n",
            "Requirement already satisfied: six in /usr/local/lib/python3.7/dist-packages (from patsy>=0.4.0->statsmodels->turbofats) (1.15.0)\n",
            "Installing collected packages: turbofats\n",
            "  Running setup.py develop for turbofats\n",
            "Successfully installed turbofats-2.0.0\n",
            "Obtaining mhps from git+https://****@github.com/alercebroker/mhps#egg=mhps\n",
            "  Cloning https://****@github.com/alercebroker/mhps to ./src/mhps\n",
            "  Running command git clone -q 'https://****@github.com/alercebroker/mhps' /content/src/mhps\n",
            "Requirement already satisfied: numpy>=1.17.4 in /usr/local/lib/python3.7/dist-packages (from mhps) (1.19.5)\n",
            "Requirement already satisfied: Cython>=0.29.12 in /usr/local/lib/python3.7/dist-packages (from mhps) (0.29.24)\n",
            "Installing collected packages: mhps\n",
            "  Running setup.py develop for mhps\n",
            "Successfully installed mhps-0.0.1\n",
            "Obtaining P4J from git+https://****@github.com/alercebroker/P4J#egg=P4J\n",
            "  Cloning https://****@github.com/alercebroker/P4J to ./src/p4j\n",
            "  Running command git clone -q 'https://****@github.com/alercebroker/P4J' /content/src/p4j\n",
            "Requirement already satisfied: numpy>=1.9.0 in /usr/local/lib/python3.7/dist-packages (from P4J) (1.19.5)\n",
            "Installing collected packages: P4J\n",
            "  Running setup.py develop for P4J\n",
            "Successfully installed P4J-1.1.0\n",
            "Requirement already satisfied: pyarrow in /usr/local/lib/python3.7/dist-packages (3.0.0)\n",
            "Requirement already satisfied: numpy>=1.16.6 in /usr/local/lib/python3.7/dist-packages (from pyarrow) (1.19.5)\n",
            "Obtaining lc_classifier from git+https://****@github.com/alercebroker/lc_classifier#egg=lc_classifier\n",
            "  Cloning https://****@github.com/alercebroker/lc_classifier to ./src/lc-classifier\n",
            "  Running command git clone -q 'https://****@github.com/alercebroker/lc_classifier' /content/src/lc-classifier\n",
            "Requirement already satisfied: astropy>=4.0 in /usr/local/lib/python3.7/dist-packages (from lc_classifier) (4.3.1)\n",
            "Requirement already satisfied: click>=7.1 in /usr/local/lib/python3.7/dist-packages (from lc_classifier) (7.1.2)\n",
            "Requirement already satisfied: Cython>=0.29 in /usr/local/lib/python3.7/dist-packages (from lc_classifier) (0.29.24)\n",
            "Collecting GPy>=1.9\n",
            "  Downloading GPy-1.10.0.tar.gz (959 kB)\n",
            "\u001b[K     |████████████████████████████████| 959 kB 28.0 MB/s \n",
            "\u001b[?25hRequirement already satisfied: Jinja2>=2.11 in /usr/local/lib/python3.7/dist-packages (from lc_classifier) (2.11.3)\n",
            "Collecting imbalanced-learn>=0.7\n",
            "  Downloading imbalanced_learn-0.8.1-py3-none-any.whl (189 kB)\n",
            "\u001b[K     |████████████████████████████████| 189 kB 53.6 MB/s \n",
            "\u001b[?25hCollecting matplotlib>=3.3\n",
            "  Downloading matplotlib-3.4.3-cp37-cp37m-manylinux1_x86_64.whl (10.3 MB)\n",
            "\u001b[K     |████████████████████████████████| 10.3 MB 51.0 MB/s \n",
            "\u001b[?25hRequirement already satisfied: numba>=0.51 in /usr/local/lib/python3.7/dist-packages (from lc_classifier) (0.51.2)\n",
            "Requirement already satisfied: numpy>=1.16 in /usr/local/lib/python3.7/dist-packages (from lc_classifier) (1.19.5)\n",
            "Collecting requests>=2.24\n",
            "  Downloading requests-2.26.0-py2.py3-none-any.whl (62 kB)\n",
            "\u001b[K     |████████████████████████████████| 62 kB 947 kB/s \n",
            "\u001b[?25hRequirement already satisfied: scipy>=1.4 in /usr/local/lib/python3.7/dist-packages (from lc_classifier) (1.4.1)\n",
            "Requirement already satisfied: setuptools>=49.6 in /usr/local/lib/python3.7/dist-packages (from lc_classifier) (57.4.0)\n",
            "Collecting scikit-learn>=0.23\n",
            "  Downloading scikit_learn-1.0-cp37-cp37m-manylinux_2_12_x86_64.manylinux2010_x86_64.whl (23.1 MB)\n",
            "\u001b[K     |████████████████████████████████| 23.1 MB 81.5 MB/s \n",
            "\u001b[?25hRequirement already satisfied: tqdm>=4.48 in /usr/local/lib/python3.7/dist-packages (from lc_classifier) (4.62.3)\n",
            "Requirement already satisfied: tensorflow>=2.3 in /usr/local/lib/python3.7/dist-packages (from lc_classifier) (2.6.0)\n",
            "Requirement already satisfied: pandas>=1.1 in /usr/local/lib/python3.7/dist-packages (from lc_classifier) (1.1.5)\n",
            "Collecting wget>=3.2\n",
            "  Downloading wget-3.2.zip (10 kB)\n",
            "Collecting celerite2>=0.1\n",
            "  Downloading celerite2-0.2.0-cp37-cp37m-manylinux2014_x86_64.whl (864 kB)\n",
            "\u001b[K     |████████████████████████████████| 864 kB 49.7 MB/s \n",
            "\u001b[?25hCollecting pickle5\n",
            "  Downloading pickle5-0.0.11.tar.gz (132 kB)\n",
            "\u001b[K     |████████████████████████████████| 132 kB 45.6 MB/s \n",
            "\u001b[?25hRequirement already satisfied: importlib-metadata in /usr/local/lib/python3.7/dist-packages (from astropy>=4.0->lc_classifier) (4.8.1)\n",
            "Requirement already satisfied: pyerfa>=1.7.3 in /usr/local/lib/python3.7/dist-packages (from astropy>=4.0->lc_classifier) (2.0.0)\n",
            "Requirement already satisfied: six in /usr/local/lib/python3.7/dist-packages (from GPy>=1.9->lc_classifier) (1.15.0)\n",
            "Collecting paramz>=0.9.0\n",
            "  Downloading paramz-0.9.5.tar.gz (71 kB)\n",
            "\u001b[K     |████████████████████████████████| 71 kB 8.4 MB/s \n",
            "\u001b[?25hRequirement already satisfied: joblib>=0.11 in /usr/local/lib/python3.7/dist-packages (from imbalanced-learn>=0.7->lc_classifier) (1.0.1)\n",
            "Requirement already satisfied: MarkupSafe>=0.23 in /usr/local/lib/python3.7/dist-packages (from Jinja2>=2.11->lc_classifier) (2.0.1)\n",
            "Requirement already satisfied: cycler>=0.10 in /usr/local/lib/python3.7/dist-packages (from matplotlib>=3.3->lc_classifier) (0.10.0)\n",
            "Requirement already satisfied: pillow>=6.2.0 in /usr/local/lib/python3.7/dist-packages (from matplotlib>=3.3->lc_classifier) (7.1.2)\n",
            "Requirement already satisfied: kiwisolver>=1.0.1 in /usr/local/lib/python3.7/dist-packages (from matplotlib>=3.3->lc_classifier) (1.3.2)\n",
            "Requirement already satisfied: pyparsing>=2.2.1 in /usr/local/lib/python3.7/dist-packages (from matplotlib>=3.3->lc_classifier) (2.4.7)\n",
            "Requirement already satisfied: python-dateutil>=2.7 in /usr/local/lib/python3.7/dist-packages (from matplotlib>=3.3->lc_classifier) (2.8.2)\n",
            "Requirement already satisfied: llvmlite<0.35,>=0.34.0.dev0 in /usr/local/lib/python3.7/dist-packages (from numba>=0.51->lc_classifier) (0.34.0)\n",
            "Requirement already satisfied: pytz>=2017.2 in /usr/local/lib/python3.7/dist-packages (from pandas>=1.1->lc_classifier) (2018.9)\n",
            "Requirement already satisfied: decorator>=4.0.10 in /usr/local/lib/python3.7/dist-packages (from paramz>=0.9.0->GPy>=1.9->lc_classifier) (4.4.2)\n",
            "Requirement already satisfied: certifi>=2017.4.17 in /usr/local/lib/python3.7/dist-packages (from requests>=2.24->lc_classifier) (2021.5.30)\n",
            "Requirement already satisfied: urllib3<1.27,>=1.21.1 in /usr/local/lib/python3.7/dist-packages (from requests>=2.24->lc_classifier) (1.24.3)\n",
            "Requirement already satisfied: idna<4,>=2.5 in /usr/local/lib/python3.7/dist-packages (from requests>=2.24->lc_classifier) (2.10)\n",
            "Requirement already satisfied: charset-normalizer~=2.0.0 in /usr/local/lib/python3.7/dist-packages (from requests>=2.24->lc_classifier) (2.0.6)\n",
            "Collecting threadpoolctl>=2.0.0\n",
            "  Downloading threadpoolctl-3.0.0-py3-none-any.whl (14 kB)\n",
            "Requirement already satisfied: flatbuffers~=1.12.0 in /usr/local/lib/python3.7/dist-packages (from tensorflow>=2.3->lc_classifier) (1.12)\n",
            "Requirement already satisfied: grpcio<2.0,>=1.37.0 in /usr/local/lib/python3.7/dist-packages (from tensorflow>=2.3->lc_classifier) (1.41.0)\n",
            "Requirement already satisfied: gast==0.4.0 in /usr/local/lib/python3.7/dist-packages (from tensorflow>=2.3->lc_classifier) (0.4.0)\n",
            "Requirement already satisfied: google-pasta~=0.2 in /usr/local/lib/python3.7/dist-packages (from tensorflow>=2.3->lc_classifier) (0.2.0)\n",
            "Requirement already satisfied: typing-extensions~=3.7.4 in /usr/local/lib/python3.7/dist-packages (from tensorflow>=2.3->lc_classifier) (3.7.4.3)\n",
            "Requirement already satisfied: h5py~=3.1.0 in /usr/local/lib/python3.7/dist-packages (from tensorflow>=2.3->lc_classifier) (3.1.0)\n",
            "Requirement already satisfied: keras-preprocessing~=1.1.2 in /usr/local/lib/python3.7/dist-packages (from tensorflow>=2.3->lc_classifier) (1.1.2)\n",
            "Requirement already satisfied: wheel~=0.35 in /usr/local/lib/python3.7/dist-packages (from tensorflow>=2.3->lc_classifier) (0.37.0)\n",
            "Requirement already satisfied: tensorboard~=2.6 in /usr/local/lib/python3.7/dist-packages (from tensorflow>=2.3->lc_classifier) (2.6.0)\n",
            "Requirement already satisfied: astunparse~=1.6.3 in /usr/local/lib/python3.7/dist-packages (from tensorflow>=2.3->lc_classifier) (1.6.3)\n",
            "Requirement already satisfied: clang~=5.0 in /usr/local/lib/python3.7/dist-packages (from tensorflow>=2.3->lc_classifier) (5.0)\n",
            "Requirement already satisfied: termcolor~=1.1.0 in /usr/local/lib/python3.7/dist-packages (from tensorflow>=2.3->lc_classifier) (1.1.0)\n",
            "Requirement already satisfied: protobuf>=3.9.2 in /usr/local/lib/python3.7/dist-packages (from tensorflow>=2.3->lc_classifier) (3.17.3)\n",
            "Requirement already satisfied: tensorflow-estimator~=2.6 in /usr/local/lib/python3.7/dist-packages (from tensorflow>=2.3->lc_classifier) (2.6.0)\n",
            "Requirement already satisfied: absl-py~=0.10 in /usr/local/lib/python3.7/dist-packages (from tensorflow>=2.3->lc_classifier) (0.12.0)\n",
            "Requirement already satisfied: keras~=2.6 in /usr/local/lib/python3.7/dist-packages (from tensorflow>=2.3->lc_classifier) (2.6.0)\n",
            "Requirement already satisfied: wrapt~=1.12.1 in /usr/local/lib/python3.7/dist-packages (from tensorflow>=2.3->lc_classifier) (1.12.1)\n",
            "Requirement already satisfied: opt-einsum~=3.3.0 in /usr/local/lib/python3.7/dist-packages (from tensorflow>=2.3->lc_classifier) (3.3.0)\n",
            "Requirement already satisfied: cached-property in /usr/local/lib/python3.7/dist-packages (from h5py~=3.1.0->tensorflow>=2.3->lc_classifier) (1.5.2)\n",
            "Requirement already satisfied: tensorboard-data-server<0.7.0,>=0.6.0 in /usr/local/lib/python3.7/dist-packages (from tensorboard~=2.6->tensorflow>=2.3->lc_classifier) (0.6.1)\n",
            "Requirement already satisfied: tensorboard-plugin-wit>=1.6.0 in /usr/local/lib/python3.7/dist-packages (from tensorboard~=2.6->tensorflow>=2.3->lc_classifier) (1.8.0)\n",
            "Requirement already satisfied: markdown>=2.6.8 in /usr/local/lib/python3.7/dist-packages (from tensorboard~=2.6->tensorflow>=2.3->lc_classifier) (3.3.4)\n",
            "Requirement already satisfied: google-auth<2,>=1.6.3 in /usr/local/lib/python3.7/dist-packages (from tensorboard~=2.6->tensorflow>=2.3->lc_classifier) (1.35.0)\n",
            "Requirement already satisfied: google-auth-oauthlib<0.5,>=0.4.1 in /usr/local/lib/python3.7/dist-packages (from tensorboard~=2.6->tensorflow>=2.3->lc_classifier) (0.4.6)\n",
            "Requirement already satisfied: werkzeug>=0.11.15 in /usr/local/lib/python3.7/dist-packages (from tensorboard~=2.6->tensorflow>=2.3->lc_classifier) (1.0.1)\n",
            "Requirement already satisfied: rsa<5,>=3.1.4 in /usr/local/lib/python3.7/dist-packages (from google-auth<2,>=1.6.3->tensorboard~=2.6->tensorflow>=2.3->lc_classifier) (4.7.2)\n",
            "Requirement already satisfied: cachetools<5.0,>=2.0.0 in /usr/local/lib/python3.7/dist-packages (from google-auth<2,>=1.6.3->tensorboard~=2.6->tensorflow>=2.3->lc_classifier) (4.2.4)\n",
            "Requirement already satisfied: pyasn1-modules>=0.2.1 in /usr/local/lib/python3.7/dist-packages (from google-auth<2,>=1.6.3->tensorboard~=2.6->tensorflow>=2.3->lc_classifier) (0.2.8)\n",
            "Requirement already satisfied: requests-oauthlib>=0.7.0 in /usr/local/lib/python3.7/dist-packages (from google-auth-oauthlib<0.5,>=0.4.1->tensorboard~=2.6->tensorflow>=2.3->lc_classifier) (1.3.0)\n",
            "Requirement already satisfied: pyasn1<0.5.0,>=0.4.6 in /usr/local/lib/python3.7/dist-packages (from pyasn1-modules>=0.2.1->google-auth<2,>=1.6.3->tensorboard~=2.6->tensorflow>=2.3->lc_classifier) (0.4.8)\n",
            "Requirement already satisfied: oauthlib>=3.0.0 in /usr/local/lib/python3.7/dist-packages (from requests-oauthlib>=0.7.0->google-auth-oauthlib<0.5,>=0.4.1->tensorboard~=2.6->tensorflow>=2.3->lc_classifier) (3.1.1)\n",
            "Requirement already satisfied: zipp>=0.5 in /usr/local/lib/python3.7/dist-packages (from importlib-metadata->astropy>=4.0->lc_classifier) (3.6.0)\n",
            "Building wheels for collected packages: GPy, paramz, wget, pickle5\n",
            "  Building wheel for GPy (setup.py) ... \u001b[?25l\u001b[?25hdone\n",
            "  Created wheel for GPy: filename=GPy-1.10.0-cp37-cp37m-linux_x86_64.whl size=2565091 sha256=4727294d36b2c24f7583c5fd03d239f2b9c578f9f60c643c375e2dadb3d8d3d2\n",
            "  Stored in directory: /root/.cache/pip/wheels/f7/18/28/dd1ce0192a81b71a3b086fd952511d088b21e8359ea496860a\n",
            "  Building wheel for paramz (setup.py) ... \u001b[?25l\u001b[?25hdone\n",
            "  Created wheel for paramz: filename=paramz-0.9.5-py3-none-any.whl size=102565 sha256=5e3ceb90a52c9cff182e2927149e2630cdd7834b28e32cba95ec3e9ba4bff598\n",
            "  Stored in directory: /root/.cache/pip/wheels/c8/95/f5/ce28482da28162e6028c4b3a32c41d147395825b3cd62bc810\n",
            "  Building wheel for wget (setup.py) ... \u001b[?25l\u001b[?25hdone\n",
            "  Created wheel for wget: filename=wget-3.2-py3-none-any.whl size=9672 sha256=a55d3d3bbc88e5d975d6d57da4ab38bd422cb5c1c3804a7c949c32fbff8977eb\n",
            "  Stored in directory: /root/.cache/pip/wheels/a1/b6/7c/0e63e34eb06634181c63adacca38b79ff8f35c37e3c13e3c02\n",
            "  Building wheel for pickle5 (setup.py) ... \u001b[?25l\u001b[?25hdone\n",
            "  Created wheel for pickle5: filename=pickle5-0.0.11-cp37-cp37m-linux_x86_64.whl size=219301 sha256=b6c7febc920270c66938d632372c98a23814df74c6829ae8b3162ad37992ad49\n",
            "  Stored in directory: /root/.cache/pip/wheels/7e/6a/00/67136a90d6aca437d806d1d3cedf98106e840c97a3e5188198\n",
            "Successfully built GPy paramz wget pickle5\n",
            "Installing collected packages: requests, threadpoolctl, scikit-learn, paramz, wget, pickle5, matplotlib, imbalanced-learn, GPy, celerite2, lc-classifier\n",
            "  Attempting uninstall: requests\n",
            "    Found existing installation: requests 2.23.0\n",
            "    Uninstalling requests-2.23.0:\n",
            "      Successfully uninstalled requests-2.23.0\n",
            "  Attempting uninstall: scikit-learn\n",
            "    Found existing installation: scikit-learn 0.22.2.post1\n",
            "    Uninstalling scikit-learn-0.22.2.post1:\n",
            "      Successfully uninstalled scikit-learn-0.22.2.post1\n",
            "  Attempting uninstall: matplotlib\n",
            "    Found existing installation: matplotlib 3.2.2\n",
            "    Uninstalling matplotlib-3.2.2:\n",
            "      Successfully uninstalled matplotlib-3.2.2\n",
            "  Attempting uninstall: imbalanced-learn\n",
            "    Found existing installation: imbalanced-learn 0.4.3\n",
            "    Uninstalling imbalanced-learn-0.4.3:\n",
            "      Successfully uninstalled imbalanced-learn-0.4.3\n",
            "  Running setup.py develop for lc-classifier\n",
            "\u001b[31mERROR: pip's dependency resolver does not currently take into account all the packages that are installed. This behaviour is the source of the following dependency conflicts.\n",
            "google-colab 1.0.0 requires requests~=2.23.0, but you have requests 2.26.0 which is incompatible.\n",
            "datascience 0.10.6 requires folium==0.2.1, but you have folium 0.8.3 which is incompatible.\n",
            "albumentations 0.1.12 requires imgaug<0.2.7,>=0.2.5, but you have imgaug 0.2.9 which is incompatible.\u001b[0m\n",
            "Successfully installed GPy-1.10.0 celerite2-0.2.0 imbalanced-learn-0.8.1 lc-classifier-2.0.1 matplotlib-3.4.3 paramz-0.9.5 pickle5-0.0.11 requests-2.26.0 scikit-learn-1.0 threadpoolctl-3.0.0 wget-3.2\n"
          ]
        }
      ]
    },
    {
      "cell_type": "markdown",
      "metadata": {
        "id": "dx38GBWzpiUe"
      },
      "source": [
        "### Traer datasets"
      ]
    },
    {
      "cell_type": "code",
      "metadata": {
        "colab": {
          "base_uri": "https://localhost:8080/"
        },
        "id": "RPEJi2o8plWN",
        "outputId": "8722d909-6918-4b13-fd1a-7797a9872ba1"
      },
      "source": [
        "!gdown --id 1r80160ipZD6QoDlzqWgDLCGlmxr3qNDn\n",
        "\n",
        "!gdown --id 1n6k-usORljXHVzm3_l1eYDlc7ev1ur3V\n",
        "\n",
        "!gdown --id 1G_vyYdBw32heWTAme3AH_YPQ6BvUMUBZ"
      ],
      "execution_count": null,
      "outputs": [
        {
          "output_type": "stream",
          "name": "stdout",
          "text": [
            "Downloading...\n",
            "From: https://drive.google.com/uc?id=1r80160ipZD6QoDlzqWgDLCGlmxr3qNDn\n",
            "To: /content/alerts_G.csv\n",
            "100% 247M/247M [00:01<00:00, 186MB/s]\n",
            "Downloading...\n",
            "From: https://drive.google.com/uc?id=1n6k-usORljXHVzm3_l1eYDlc7ev1ur3V\n",
            "To: /content/alerts_R.csv\n",
            "100% 211M/211M [00:01<00:00, 189MB/s]\n",
            "Downloading...\n",
            "From: https://drive.google.com/uc?id=1G_vyYdBw32heWTAme3AH_YPQ6BvUMUBZ\n",
            "To: /content/present_curves.csv\n",
            "100% 1.13M/1.13M [00:00<00:00, 17.8MB/s]\n"
          ]
        }
      ]
    },
    {
      "cell_type": "markdown",
      "metadata": {
        "id": "1TYdHUaKyq4I"
      },
      "source": [
        "### Imports necesarios"
      ]
    },
    {
      "cell_type": "code",
      "metadata": {
        "id": "lBTNayVGwmoB"
      },
      "source": [
        "import pandas as pd\n",
        "import numpy as np\n",
        "import matplotlib.pyplot as plt\n",
        "from lc_classifier.utils import LightcurveBuilder\n",
        "from sklearn import preprocessing"
      ],
      "execution_count": null,
      "outputs": []
    },
    {
      "cell_type": "code",
      "metadata": {
        "id": "r-tjepMXwybh",
        "colab": {
          "base_uri": "https://localhost:8080/"
        },
        "outputId": "bbc8d6dc-6b3b-435c-b142-d3d5d7d0a5a5"
      },
      "source": [
        "from lc_classifier.features import MHPSExtractor, PeriodExtractor, GPDRWExtractor\n",
        "from lc_classifier.features import FoldedKimExtractor\n",
        "from lc_classifier.features import HarmonicsExtractor, IQRExtractor\n",
        "from lc_classifier.features import PowerRateExtractor\n",
        "from lc_classifier.features import TurboFatsFeatureExtractor\n",
        "from lc_classifier.features import FeatureExtractorComposer"
      ],
      "execution_count": null,
      "outputs": [
        {
          "output_type": "stream",
          "name": "stderr",
          "text": [
            "/usr/local/lib/python3.7/dist-packages/statsmodels/tools/_testing.py:19: FutureWarning: pandas.util.testing is deprecated. Use the functions in the public API at pandas.testing instead.\n",
            "  import pandas.util.testing as tm\n"
          ]
        }
      ]
    },
    {
      "cell_type": "code",
      "metadata": {
        "id": "tiLtYIO21SoG"
      },
      "source": [
        "alerts_G = pd.read_csv(\"/content/alerts_G.csv\",\n",
        "                       index_col=0)\n",
        "alerts_R = pd.read_csv(\"/content/alerts_R.csv\",\n",
        "                       index_col=0)\n",
        "present_curves = pd.read_csv(\"/content/present_curves.csv\",\n",
        "                             index_col=None)"
      ],
      "execution_count": null,
      "outputs": []
    },
    {
      "cell_type": "markdown",
      "metadata": {
        "id": "tVmAZo6kyyRU"
      },
      "source": [
        "### Estructurando la data\n",
        "Los dataframes disponibles en `alerts_G.csv` y `alerts_R.csv` corresponden a observaciones de estrellas periódicas en las bandas G y R respectivamente. Sus columnas son oid, magnitud, error y tiempo, que no coincide con aquellas requeridas por la librería (oid, time, magnitude, error, band). En esta sección se reestructurará la data para que tome la forma necesaria."
      ]
    },
    {
      "cell_type": "markdown",
      "metadata": {
        "id": "X9foY64Z-2BU"
      },
      "source": [
        "Primero vamos por las alertas en G"
      ]
    },
    {
      "cell_type": "code",
      "metadata": {
        "colab": {
          "base_uri": "https://localhost:8080/",
          "height": 234
        },
        "id": "jmwV0hPzzUbQ",
        "outputId": "93414e21-540a-41c9-8263-b175c27ef0a9"
      },
      "source": [
        "alerts_G.head()"
      ],
      "execution_count": null,
      "outputs": [
        {
          "output_type": "execute_result",
          "data": {
            "text/html": [
              "<div>\n",
              "<style scoped>\n",
              "    .dataframe tbody tr th:only-of-type {\n",
              "        vertical-align: middle;\n",
              "    }\n",
              "\n",
              "    .dataframe tbody tr th {\n",
              "        vertical-align: top;\n",
              "    }\n",
              "\n",
              "    .dataframe thead th {\n",
              "        text-align: right;\n",
              "    }\n",
              "</style>\n",
              "<table border=\"1\" class=\"dataframe\">\n",
              "  <thead>\n",
              "    <tr style=\"text-align: right;\">\n",
              "      <th></th>\n",
              "      <th>magnitude</th>\n",
              "      <th>time</th>\n",
              "      <th>error</th>\n",
              "    </tr>\n",
              "    <tr>\n",
              "      <th>oid</th>\n",
              "      <th></th>\n",
              "      <th></th>\n",
              "      <th></th>\n",
              "    </tr>\n",
              "  </thead>\n",
              "  <tbody>\n",
              "    <tr>\n",
              "      <th>ZTF18ablusst</th>\n",
              "      <td>17.612375</td>\n",
              "      <td>58606.479734</td>\n",
              "      <td>0.027428</td>\n",
              "    </tr>\n",
              "    <tr>\n",
              "      <th>ZTF18ablutwd</th>\n",
              "      <td>13.388574</td>\n",
              "      <td>58648.334549</td>\n",
              "      <td>100.000000</td>\n",
              "    </tr>\n",
              "    <tr>\n",
              "      <th>ZTF18aawlhni</th>\n",
              "      <td>16.428589</td>\n",
              "      <td>58732.362870</td>\n",
              "      <td>100.000000</td>\n",
              "    </tr>\n",
              "    <tr>\n",
              "      <th>ZTF18aawlhni</th>\n",
              "      <td>15.383415</td>\n",
              "      <td>58785.170544</td>\n",
              "      <td>0.015321</td>\n",
              "    </tr>\n",
              "    <tr>\n",
              "      <th>ZTF18aawlhrt</th>\n",
              "      <td>12.855704</td>\n",
              "      <td>58266.456551</td>\n",
              "      <td>100.000000</td>\n",
              "    </tr>\n",
              "  </tbody>\n",
              "</table>\n",
              "</div>"
            ],
            "text/plain": [
              "              magnitude          time       error\n",
              "oid                                              \n",
              "ZTF18ablusst  17.612375  58606.479734    0.027428\n",
              "ZTF18ablutwd  13.388574  58648.334549  100.000000\n",
              "ZTF18aawlhni  16.428589  58732.362870  100.000000\n",
              "ZTF18aawlhni  15.383415  58785.170544    0.015321\n",
              "ZTF18aawlhrt  12.855704  58266.456551  100.000000"
            ]
          },
          "metadata": {},
          "execution_count": 5
        }
      ]
    },
    {
      "cell_type": "code",
      "metadata": {
        "colab": {
          "base_uri": "https://localhost:8080/",
          "height": 234
        },
        "id": "3CxI3GBb4yxB",
        "outputId": "df375593-e3df-4d17-a57d-0a7149900517"
      },
      "source": [
        "g = []\n",
        "for i in range(0, len(alerts_G.index)):\n",
        "  g.append('g')\n",
        "alerts_G['band'] = g\n",
        "alerts_G.head()"
      ],
      "execution_count": null,
      "outputs": [
        {
          "output_type": "execute_result",
          "data": {
            "text/html": [
              "<div>\n",
              "<style scoped>\n",
              "    .dataframe tbody tr th:only-of-type {\n",
              "        vertical-align: middle;\n",
              "    }\n",
              "\n",
              "    .dataframe tbody tr th {\n",
              "        vertical-align: top;\n",
              "    }\n",
              "\n",
              "    .dataframe thead th {\n",
              "        text-align: right;\n",
              "    }\n",
              "</style>\n",
              "<table border=\"1\" class=\"dataframe\">\n",
              "  <thead>\n",
              "    <tr style=\"text-align: right;\">\n",
              "      <th></th>\n",
              "      <th>magnitude</th>\n",
              "      <th>time</th>\n",
              "      <th>error</th>\n",
              "      <th>band</th>\n",
              "    </tr>\n",
              "    <tr>\n",
              "      <th>oid</th>\n",
              "      <th></th>\n",
              "      <th></th>\n",
              "      <th></th>\n",
              "      <th></th>\n",
              "    </tr>\n",
              "  </thead>\n",
              "  <tbody>\n",
              "    <tr>\n",
              "      <th>ZTF18ablusst</th>\n",
              "      <td>17.612375</td>\n",
              "      <td>58606.479734</td>\n",
              "      <td>0.027428</td>\n",
              "      <td>g</td>\n",
              "    </tr>\n",
              "    <tr>\n",
              "      <th>ZTF18ablutwd</th>\n",
              "      <td>13.388574</td>\n",
              "      <td>58648.334549</td>\n",
              "      <td>100.000000</td>\n",
              "      <td>g</td>\n",
              "    </tr>\n",
              "    <tr>\n",
              "      <th>ZTF18aawlhni</th>\n",
              "      <td>16.428589</td>\n",
              "      <td>58732.362870</td>\n",
              "      <td>100.000000</td>\n",
              "      <td>g</td>\n",
              "    </tr>\n",
              "    <tr>\n",
              "      <th>ZTF18aawlhni</th>\n",
              "      <td>15.383415</td>\n",
              "      <td>58785.170544</td>\n",
              "      <td>0.015321</td>\n",
              "      <td>g</td>\n",
              "    </tr>\n",
              "    <tr>\n",
              "      <th>ZTF18aawlhrt</th>\n",
              "      <td>12.855704</td>\n",
              "      <td>58266.456551</td>\n",
              "      <td>100.000000</td>\n",
              "      <td>g</td>\n",
              "    </tr>\n",
              "  </tbody>\n",
              "</table>\n",
              "</div>"
            ],
            "text/plain": [
              "              magnitude          time       error band\n",
              "oid                                                   \n",
              "ZTF18ablusst  17.612375  58606.479734    0.027428    g\n",
              "ZTF18ablutwd  13.388574  58648.334549  100.000000    g\n",
              "ZTF18aawlhni  16.428589  58732.362870  100.000000    g\n",
              "ZTF18aawlhni  15.383415  58785.170544    0.015321    g\n",
              "ZTF18aawlhrt  12.855704  58266.456551  100.000000    g"
            ]
          },
          "metadata": {},
          "execution_count": 6
        }
      ]
    },
    {
      "cell_type": "code",
      "metadata": {
        "colab": {
          "base_uri": "https://localhost:8080/",
          "height": 234
        },
        "id": "df9bmrg6-sSe",
        "outputId": "aff6dbfc-b02c-4387-dd40-5fc75f5ead46"
      },
      "source": [
        "columns_titles = [\"time\",\"magnitude\",\"error\", \"band\"]\n",
        "alerts_G=alerts_G.reindex(columns=columns_titles)\n",
        "alerts_G.head()"
      ],
      "execution_count": null,
      "outputs": [
        {
          "output_type": "execute_result",
          "data": {
            "text/html": [
              "<div>\n",
              "<style scoped>\n",
              "    .dataframe tbody tr th:only-of-type {\n",
              "        vertical-align: middle;\n",
              "    }\n",
              "\n",
              "    .dataframe tbody tr th {\n",
              "        vertical-align: top;\n",
              "    }\n",
              "\n",
              "    .dataframe thead th {\n",
              "        text-align: right;\n",
              "    }\n",
              "</style>\n",
              "<table border=\"1\" class=\"dataframe\">\n",
              "  <thead>\n",
              "    <tr style=\"text-align: right;\">\n",
              "      <th></th>\n",
              "      <th>time</th>\n",
              "      <th>magnitude</th>\n",
              "      <th>error</th>\n",
              "      <th>band</th>\n",
              "    </tr>\n",
              "    <tr>\n",
              "      <th>oid</th>\n",
              "      <th></th>\n",
              "      <th></th>\n",
              "      <th></th>\n",
              "      <th></th>\n",
              "    </tr>\n",
              "  </thead>\n",
              "  <tbody>\n",
              "    <tr>\n",
              "      <th>ZTF18ablusst</th>\n",
              "      <td>58606.479734</td>\n",
              "      <td>17.612375</td>\n",
              "      <td>0.027428</td>\n",
              "      <td>g</td>\n",
              "    </tr>\n",
              "    <tr>\n",
              "      <th>ZTF18ablutwd</th>\n",
              "      <td>58648.334549</td>\n",
              "      <td>13.388574</td>\n",
              "      <td>100.000000</td>\n",
              "      <td>g</td>\n",
              "    </tr>\n",
              "    <tr>\n",
              "      <th>ZTF18aawlhni</th>\n",
              "      <td>58732.362870</td>\n",
              "      <td>16.428589</td>\n",
              "      <td>100.000000</td>\n",
              "      <td>g</td>\n",
              "    </tr>\n",
              "    <tr>\n",
              "      <th>ZTF18aawlhni</th>\n",
              "      <td>58785.170544</td>\n",
              "      <td>15.383415</td>\n",
              "      <td>0.015321</td>\n",
              "      <td>g</td>\n",
              "    </tr>\n",
              "    <tr>\n",
              "      <th>ZTF18aawlhrt</th>\n",
              "      <td>58266.456551</td>\n",
              "      <td>12.855704</td>\n",
              "      <td>100.000000</td>\n",
              "      <td>g</td>\n",
              "    </tr>\n",
              "  </tbody>\n",
              "</table>\n",
              "</div>"
            ],
            "text/plain": [
              "                      time  magnitude       error band\n",
              "oid                                                   \n",
              "ZTF18ablusst  58606.479734  17.612375    0.027428    g\n",
              "ZTF18ablutwd  58648.334549  13.388574  100.000000    g\n",
              "ZTF18aawlhni  58732.362870  16.428589  100.000000    g\n",
              "ZTF18aawlhni  58785.170544  15.383415    0.015321    g\n",
              "ZTF18aawlhrt  58266.456551  12.855704  100.000000    g"
            ]
          },
          "metadata": {},
          "execution_count": 7
        }
      ]
    },
    {
      "cell_type": "markdown",
      "metadata": {
        "id": "b-ST1aAf-zoT"
      },
      "source": [
        "Ahora procesamos las alertas en R"
      ]
    },
    {
      "cell_type": "code",
      "metadata": {
        "colab": {
          "base_uri": "https://localhost:8080/",
          "height": 234
        },
        "id": "1LjcKhc055yK",
        "outputId": "82431054-26a9-4a2e-a40a-69fb49a6310d"
      },
      "source": [
        "alerts_R.head()"
      ],
      "execution_count": null,
      "outputs": [
        {
          "output_type": "execute_result",
          "data": {
            "text/html": [
              "<div>\n",
              "<style scoped>\n",
              "    .dataframe tbody tr th:only-of-type {\n",
              "        vertical-align: middle;\n",
              "    }\n",
              "\n",
              "    .dataframe tbody tr th {\n",
              "        vertical-align: top;\n",
              "    }\n",
              "\n",
              "    .dataframe thead th {\n",
              "        text-align: right;\n",
              "    }\n",
              "</style>\n",
              "<table border=\"1\" class=\"dataframe\">\n",
              "  <thead>\n",
              "    <tr style=\"text-align: right;\">\n",
              "      <th></th>\n",
              "      <th>magnitude</th>\n",
              "      <th>time</th>\n",
              "      <th>error</th>\n",
              "    </tr>\n",
              "    <tr>\n",
              "      <th>oid</th>\n",
              "      <th></th>\n",
              "      <th></th>\n",
              "      <th></th>\n",
              "    </tr>\n",
              "  </thead>\n",
              "  <tbody>\n",
              "    <tr>\n",
              "      <th>ZTF18ablutuy</th>\n",
              "      <td>14.735083</td>\n",
              "      <td>58334.337859</td>\n",
              "      <td>0.013329</td>\n",
              "    </tr>\n",
              "    <tr>\n",
              "      <th>ZTF18ablutvl</th>\n",
              "      <td>17.014446</td>\n",
              "      <td>58643.297141</td>\n",
              "      <td>0.015508</td>\n",
              "    </tr>\n",
              "    <tr>\n",
              "      <th>ZTF18abluulc</th>\n",
              "      <td>12.949492</td>\n",
              "      <td>58941.501921</td>\n",
              "      <td>100.000000</td>\n",
              "    </tr>\n",
              "    <tr>\n",
              "      <th>ZTF18aawlhrt</th>\n",
              "      <td>12.595240</td>\n",
              "      <td>58663.343831</td>\n",
              "      <td>100.000000</td>\n",
              "    </tr>\n",
              "    <tr>\n",
              "      <th>ZTF18aawlhrt</th>\n",
              "      <td>12.465376</td>\n",
              "      <td>59003.238750</td>\n",
              "      <td>100.000000</td>\n",
              "    </tr>\n",
              "  </tbody>\n",
              "</table>\n",
              "</div>"
            ],
            "text/plain": [
              "              magnitude          time       error\n",
              "oid                                              \n",
              "ZTF18ablutuy  14.735083  58334.337859    0.013329\n",
              "ZTF18ablutvl  17.014446  58643.297141    0.015508\n",
              "ZTF18abluulc  12.949492  58941.501921  100.000000\n",
              "ZTF18aawlhrt  12.595240  58663.343831  100.000000\n",
              "ZTF18aawlhrt  12.465376  59003.238750  100.000000"
            ]
          },
          "metadata": {},
          "execution_count": 8
        }
      ]
    },
    {
      "cell_type": "code",
      "metadata": {
        "id": "BmliCd9-58da"
      },
      "source": [
        "r = []\n",
        "for i in range(0, len(alerts_R.index)):\n",
        "  r.append('r')\n",
        "alerts_R['band'] = r"
      ],
      "execution_count": null,
      "outputs": []
    },
    {
      "cell_type": "code",
      "metadata": {
        "colab": {
          "base_uri": "https://localhost:8080/",
          "height": 234
        },
        "id": "Li1GXSuk_Fvp",
        "outputId": "9f5e950f-a6be-4cf6-dbf0-13578be02585"
      },
      "source": [
        "alerts_R=alerts_R.reindex(columns=columns_titles)\n",
        "alerts_R.head()"
      ],
      "execution_count": null,
      "outputs": [
        {
          "output_type": "execute_result",
          "data": {
            "text/html": [
              "<div>\n",
              "<style scoped>\n",
              "    .dataframe tbody tr th:only-of-type {\n",
              "        vertical-align: middle;\n",
              "    }\n",
              "\n",
              "    .dataframe tbody tr th {\n",
              "        vertical-align: top;\n",
              "    }\n",
              "\n",
              "    .dataframe thead th {\n",
              "        text-align: right;\n",
              "    }\n",
              "</style>\n",
              "<table border=\"1\" class=\"dataframe\">\n",
              "  <thead>\n",
              "    <tr style=\"text-align: right;\">\n",
              "      <th></th>\n",
              "      <th>time</th>\n",
              "      <th>magnitude</th>\n",
              "      <th>error</th>\n",
              "      <th>band</th>\n",
              "    </tr>\n",
              "    <tr>\n",
              "      <th>oid</th>\n",
              "      <th></th>\n",
              "      <th></th>\n",
              "      <th></th>\n",
              "      <th></th>\n",
              "    </tr>\n",
              "  </thead>\n",
              "  <tbody>\n",
              "    <tr>\n",
              "      <th>ZTF18ablutuy</th>\n",
              "      <td>58334.337859</td>\n",
              "      <td>14.735083</td>\n",
              "      <td>0.013329</td>\n",
              "      <td>r</td>\n",
              "    </tr>\n",
              "    <tr>\n",
              "      <th>ZTF18ablutvl</th>\n",
              "      <td>58643.297141</td>\n",
              "      <td>17.014446</td>\n",
              "      <td>0.015508</td>\n",
              "      <td>r</td>\n",
              "    </tr>\n",
              "    <tr>\n",
              "      <th>ZTF18abluulc</th>\n",
              "      <td>58941.501921</td>\n",
              "      <td>12.949492</td>\n",
              "      <td>100.000000</td>\n",
              "      <td>r</td>\n",
              "    </tr>\n",
              "    <tr>\n",
              "      <th>ZTF18aawlhrt</th>\n",
              "      <td>58663.343831</td>\n",
              "      <td>12.595240</td>\n",
              "      <td>100.000000</td>\n",
              "      <td>r</td>\n",
              "    </tr>\n",
              "    <tr>\n",
              "      <th>ZTF18aawlhrt</th>\n",
              "      <td>59003.238750</td>\n",
              "      <td>12.465376</td>\n",
              "      <td>100.000000</td>\n",
              "      <td>r</td>\n",
              "    </tr>\n",
              "  </tbody>\n",
              "</table>\n",
              "</div>"
            ],
            "text/plain": [
              "                      time  magnitude       error band\n",
              "oid                                                   \n",
              "ZTF18ablutuy  58334.337859  14.735083    0.013329    r\n",
              "ZTF18ablutvl  58643.297141  17.014446    0.015508    r\n",
              "ZTF18abluulc  58941.501921  12.949492  100.000000    r\n",
              "ZTF18aawlhrt  58663.343831  12.595240  100.000000    r\n",
              "ZTF18aawlhrt  59003.238750  12.465376  100.000000    r"
            ]
          },
          "metadata": {},
          "execution_count": 10
        }
      ]
    },
    {
      "cell_type": "markdown",
      "metadata": {
        "id": "u8Nzrprt_Hy8"
      },
      "source": [
        "Juntamos ambos dataframe en uno, para pasarselo al extractor"
      ]
    },
    {
      "cell_type": "code",
      "metadata": {
        "colab": {
          "base_uri": "https://localhost:8080/",
          "height": 481
        },
        "id": "mDEijXy-6EFy",
        "outputId": "3c27c2a8-4814-4765-d774-bca74d5fe95b"
      },
      "source": [
        "light_curves = pd.concat([alerts_G, alerts_R])\n",
        "print(len(light_curves.index))\n",
        "\n",
        "#limpieza de filas con valores nan\n",
        "light_curves.dropna(inplace=True)\n",
        "print(len(light_curves.index))\n",
        "df = light_curves\n",
        "\n",
        "# limpieza de valores negativos o 0 (no hay)\n",
        "df = df.drop(df[df.time <= 0].index)\n",
        "df = df.drop(df[df.magnitude <= 0].index)\n",
        "df = df.drop(df[df.error <= 0].index)\n",
        "# correccion de errores 100 a 0.5\n",
        "df.loc[df.error == 100, \"error\"] = 0.5\n",
        "\n",
        "# estandarización de columnas por min-max\n",
        "# tampoco funciona \n",
        "# df.iloc[:,0:-1] = df.iloc[:,0:-1].apply(lambda x: (x-x.mean())/ x.std(), axis=0)\n",
        "df"
      ],
      "execution_count": null,
      "outputs": [
        {
          "output_type": "stream",
          "name": "stdout",
          "text": [
            "9003067\n",
            "8935910\n"
          ]
        },
        {
          "output_type": "execute_result",
          "data": {
            "text/html": [
              "<div>\n",
              "<style scoped>\n",
              "    .dataframe tbody tr th:only-of-type {\n",
              "        vertical-align: middle;\n",
              "    }\n",
              "\n",
              "    .dataframe tbody tr th {\n",
              "        vertical-align: top;\n",
              "    }\n",
              "\n",
              "    .dataframe thead th {\n",
              "        text-align: right;\n",
              "    }\n",
              "</style>\n",
              "<table border=\"1\" class=\"dataframe\">\n",
              "  <thead>\n",
              "    <tr style=\"text-align: right;\">\n",
              "      <th></th>\n",
              "      <th>time</th>\n",
              "      <th>magnitude</th>\n",
              "      <th>error</th>\n",
              "      <th>band</th>\n",
              "    </tr>\n",
              "    <tr>\n",
              "      <th>oid</th>\n",
              "      <th></th>\n",
              "      <th></th>\n",
              "      <th></th>\n",
              "      <th></th>\n",
              "    </tr>\n",
              "  </thead>\n",
              "  <tbody>\n",
              "    <tr>\n",
              "      <th>ZTF18ablusst</th>\n",
              "      <td>-0.321858</td>\n",
              "      <td>0.364808</td>\n",
              "      <td>-0.031581</td>\n",
              "      <td>g</td>\n",
              "    </tr>\n",
              "    <tr>\n",
              "      <th>ZTF18ablutwd</th>\n",
              "      <td>-0.111454</td>\n",
              "      <td>-0.585980</td>\n",
              "      <td>0.023923</td>\n",
              "      <td>g</td>\n",
              "    </tr>\n",
              "    <tr>\n",
              "      <th>ZTF18aawlhni</th>\n",
              "      <td>0.310958</td>\n",
              "      <td>0.098335</td>\n",
              "      <td>0.023923</td>\n",
              "      <td>g</td>\n",
              "    </tr>\n",
              "    <tr>\n",
              "      <th>ZTF18aawlhni</th>\n",
              "      <td>0.576423</td>\n",
              "      <td>-0.136936</td>\n",
              "      <td>-0.033003</td>\n",
              "      <td>g</td>\n",
              "    </tr>\n",
              "    <tr>\n",
              "      <th>ZTF18aawlhrt</th>\n",
              "      <td>-2.031159</td>\n",
              "      <td>-0.705931</td>\n",
              "      <td>0.023923</td>\n",
              "      <td>g</td>\n",
              "    </tr>\n",
              "    <tr>\n",
              "      <th>...</th>\n",
              "      <td>...</td>\n",
              "      <td>...</td>\n",
              "      <td>...</td>\n",
              "      <td>...</td>\n",
              "    </tr>\n",
              "    <tr>\n",
              "      <th>ZTF18acnokhc</th>\n",
              "      <td>-0.167471</td>\n",
              "      <td>0.230571</td>\n",
              "      <td>-0.033272</td>\n",
              "      <td>r</td>\n",
              "    </tr>\n",
              "    <tr>\n",
              "      <th>ZTF18acnokib</th>\n",
              "      <td>-0.568789</td>\n",
              "      <td>0.522128</td>\n",
              "      <td>-0.028261</td>\n",
              "      <td>r</td>\n",
              "    </tr>\n",
              "    <tr>\n",
              "      <th>ZTF18acnokif</th>\n",
              "      <td>1.336652</td>\n",
              "      <td>-0.080962</td>\n",
              "      <td>0.023923</td>\n",
              "      <td>r</td>\n",
              "    </tr>\n",
              "    <tr>\n",
              "      <th>ZTF18acnoksr</th>\n",
              "      <td>-0.553816</td>\n",
              "      <td>-0.624579</td>\n",
              "      <td>0.023923</td>\n",
              "      <td>r</td>\n",
              "    </tr>\n",
              "    <tr>\n",
              "      <th>ZTF18acnokte</th>\n",
              "      <td>-0.844451</td>\n",
              "      <td>0.163668</td>\n",
              "      <td>-0.033289</td>\n",
              "      <td>r</td>\n",
              "    </tr>\n",
              "  </tbody>\n",
              "</table>\n",
              "<p>8935910 rows × 4 columns</p>\n",
              "</div>"
            ],
            "text/plain": [
              "                  time  magnitude     error band\n",
              "oid                                             \n",
              "ZTF18ablusst -0.321858   0.364808 -0.031581    g\n",
              "ZTF18ablutwd -0.111454  -0.585980  0.023923    g\n",
              "ZTF18aawlhni  0.310958   0.098335  0.023923    g\n",
              "ZTF18aawlhni  0.576423  -0.136936 -0.033003    g\n",
              "ZTF18aawlhrt -2.031159  -0.705931  0.023923    g\n",
              "...                ...        ...       ...  ...\n",
              "ZTF18acnokhc -0.167471   0.230571 -0.033272    r\n",
              "ZTF18acnokib -0.568789   0.522128 -0.028261    r\n",
              "ZTF18acnokif  1.336652  -0.080962  0.023923    r\n",
              "ZTF18acnoksr -0.553816  -0.624579  0.023923    r\n",
              "ZTF18acnokte -0.844451   0.163668 -0.033289    r\n",
              "\n",
              "[8935910 rows x 4 columns]"
            ]
          },
          "metadata": {},
          "execution_count": 19
        }
      ]
    },
    {
      "cell_type": "markdown",
      "metadata": {
        "id": "rLYnVjwMzX-7"
      },
      "source": [
        "### Computando características sobre el dataset"
      ]
    },
    {
      "cell_type": "markdown",
      "metadata": {
        "id": "L2DgOSV10jOs"
      },
      "source": [
        "Para computar las características le damos el dataframe con observaciones al método `compute_features` de nuestro extractor de características. Las características se mostrarán como columnas y los objetos como filas."
      ]
    },
    {
      "cell_type": "code",
      "metadata": {
        "id": "B8SbtLBzw36X"
      },
      "source": [
        "bands = ['g', 'r']\n",
        "feature_extractor = FeatureExtractorComposer(\n",
        "    [\n",
        "        MHPSExtractor(bands),\n",
        "        PeriodExtractor(bands),\n",
        "        GPDRWExtractor(bands),\n",
        "        FoldedKimExtractor(bands),\n",
        "        HarmonicsExtractor(bands),\n",
        "        IQRExtractor(bands),\n",
        "        PowerRateExtractor(bands),\n",
        "        TurboFatsFeatureExtractor(bands)\n",
        "    ]\n",
        ")"
      ],
      "execution_count": null,
      "outputs": []
    },
    {
      "cell_type": "code",
      "metadata": {
        "id": "6Eac0dROxlPG",
        "colab": {
          "base_uri": "https://localhost:8080/",
          "height": 320
        },
        "outputId": "fe4cd126-bdbc-4380-ad78-53c680c89f76"
      },
      "source": [
        "features = feature_extractor.compute_features(light_curves)\n",
        "features"
      ],
      "execution_count": null,
      "outputs": [
        {
          "output_type": "error",
          "ename": "AssertionError",
          "evalue": "ignored",
          "traceback": [
            "\u001b[0;31m---------------------------------------------------------------------------\u001b[0m",
            "\u001b[0;31mAssertionError\u001b[0m                            Traceback (most recent call last)",
            "\u001b[0;32m<ipython-input-21-5cc8dff781a1>\u001b[0m in \u001b[0;36m<module>\u001b[0;34m()\u001b[0m\n\u001b[0;32m----> 1\u001b[0;31m \u001b[0mfeatures\u001b[0m \u001b[0;34m=\u001b[0m \u001b[0mfeature_extractor\u001b[0m\u001b[0;34m.\u001b[0m\u001b[0mcompute_features\u001b[0m\u001b[0;34m(\u001b[0m\u001b[0mlight_curves\u001b[0m\u001b[0;34m)\u001b[0m\u001b[0;34m\u001b[0m\u001b[0;34m\u001b[0m\u001b[0m\n\u001b[0m\u001b[1;32m      2\u001b[0m \u001b[0mfeatures\u001b[0m\u001b[0;34m\u001b[0m\u001b[0;34m\u001b[0m\u001b[0m\n",
            "\u001b[0;32m/content/src/lc-classifier/lc_classifier/features/core/base.py\u001b[0m in \u001b[0;36mcompute_features\u001b[0;34m(self, detections, **kwargs)\u001b[0m\n\u001b[1;32m     70\u001b[0m                 raise Exception(\n\u001b[1;32m     71\u001b[0m                     f'detections_df has missing columns: {self.__class__.__name__} requires {self.get_required_keys()}')\n\u001b[0;32m---> 72\u001b[0;31m             \u001b[0mfeatures\u001b[0m \u001b[0;34m=\u001b[0m \u001b[0mself\u001b[0m\u001b[0;34m.\u001b[0m\u001b[0m_compute_features\u001b[0m\u001b[0;34m(\u001b[0m\u001b[0mdetections\u001b[0m\u001b[0;34m,\u001b[0m \u001b[0;34m**\u001b[0m\u001b[0mkwargs\u001b[0m\u001b[0;34m)\u001b[0m\u001b[0;34m\u001b[0m\u001b[0;34m\u001b[0m\u001b[0m\n\u001b[0m\u001b[1;32m     73\u001b[0m             \u001b[0;32mreturn\u001b[0m \u001b[0mfeatures\u001b[0m\u001b[0;34m\u001b[0m\u001b[0;34m\u001b[0m\u001b[0m\n\u001b[1;32m     74\u001b[0m \u001b[0;34m\u001b[0m\u001b[0m\n",
            "\u001b[0;32m/content/src/lc-classifier/lc_classifier/features/core/base.py\u001b[0m in \u001b[0;36m_compute_features\u001b[0;34m(self, detections, **kwargs)\u001b[0m\n\u001b[1;32m    203\u001b[0m         \u001b[0;32mfor\u001b[0m \u001b[0mextractor\u001b[0m \u001b[0;32min\u001b[0m \u001b[0mself\u001b[0m\u001b[0;34m.\u001b[0m\u001b[0mfeature_extractors\u001b[0m\u001b[0;34m:\u001b[0m\u001b[0;34m\u001b[0m\u001b[0;34m\u001b[0m\u001b[0m\n\u001b[1;32m    204\u001b[0m             feature_dataframes.append(\n\u001b[0;32m--> 205\u001b[0;31m                 extractor.compute_features(detections, **kwargs))\n\u001b[0m\u001b[1;32m    206\u001b[0m         \u001b[0;32mreturn\u001b[0m \u001b[0mpd\u001b[0m\u001b[0;34m.\u001b[0m\u001b[0mconcat\u001b[0m\u001b[0;34m(\u001b[0m\u001b[0mfeature_dataframes\u001b[0m\u001b[0;34m,\u001b[0m \u001b[0maxis\u001b[0m\u001b[0;34m=\u001b[0m\u001b[0;36m1\u001b[0m\u001b[0;34m)\u001b[0m\u001b[0;34m\u001b[0m\u001b[0;34m\u001b[0m\u001b[0m\n",
            "\u001b[0;32m/content/src/lc-classifier/lc_classifier/features/core/base.py\u001b[0m in \u001b[0;36mcompute_features\u001b[0;34m(self, detections, **kwargs)\u001b[0m\n\u001b[1;32m     70\u001b[0m                 raise Exception(\n\u001b[1;32m     71\u001b[0m                     f'detections_df has missing columns: {self.__class__.__name__} requires {self.get_required_keys()}')\n\u001b[0;32m---> 72\u001b[0;31m             \u001b[0mfeatures\u001b[0m \u001b[0;34m=\u001b[0m \u001b[0mself\u001b[0m\u001b[0;34m.\u001b[0m\u001b[0m_compute_features\u001b[0m\u001b[0;34m(\u001b[0m\u001b[0mdetections\u001b[0m\u001b[0;34m,\u001b[0m \u001b[0;34m**\u001b[0m\u001b[0mkwargs\u001b[0m\u001b[0;34m)\u001b[0m\u001b[0;34m\u001b[0m\u001b[0;34m\u001b[0m\u001b[0m\n\u001b[0m\u001b[1;32m     73\u001b[0m             \u001b[0;32mreturn\u001b[0m \u001b[0mfeatures\u001b[0m\u001b[0;34m\u001b[0m\u001b[0;34m\u001b[0m\u001b[0m\n\u001b[1;32m     74\u001b[0m \u001b[0;34m\u001b[0m\u001b[0m\n",
            "\u001b[0;32m/content/src/lc-classifier/lc_classifier/features/extractors/period_extractor.py\u001b[0m in \u001b[0;36m_compute_features\u001b[0;34m(self, detections, **kwargs)\u001b[0m\n\u001b[1;32m     33\u001b[0m         return self._compute_features_from_df_groupby(\n\u001b[1;32m     34\u001b[0m             \u001b[0mdetections\u001b[0m\u001b[0;34m.\u001b[0m\u001b[0mgroupby\u001b[0m\u001b[0;34m(\u001b[0m\u001b[0mlevel\u001b[0m\u001b[0;34m=\u001b[0m\u001b[0;36m0\u001b[0m\u001b[0;34m)\u001b[0m\u001b[0;34m,\u001b[0m\u001b[0;34m\u001b[0m\u001b[0;34m\u001b[0m\u001b[0m\n\u001b[0;32m---> 35\u001b[0;31m             **kwargs)\n\u001b[0m\u001b[1;32m     36\u001b[0m \u001b[0;34m\u001b[0m\u001b[0m\n\u001b[1;32m     37\u001b[0m     def _compute_features_from_df_groupby(\n",
            "\u001b[0;32m/content/src/lc-classifier/lc_classifier/features/extractors/period_extractor.py\u001b[0m in \u001b[0;36m_compute_features_from_df_groupby\u001b[0;34m(self, detections, **kwargs)\u001b[0m\n\u001b[1;32m    103\u001b[0m \u001b[0;34m\u001b[0m\u001b[0m\n\u001b[1;32m    104\u001b[0m         \u001b[0mperiodograms\u001b[0m \u001b[0;34m=\u001b[0m \u001b[0;34m{\u001b[0m\u001b[0;34m}\u001b[0m\u001b[0;34m\u001b[0m\u001b[0;34m\u001b[0m\u001b[0m\n\u001b[0;32m--> 105\u001b[0;31m         \u001b[0mfeatures\u001b[0m \u001b[0;34m=\u001b[0m \u001b[0mdetections\u001b[0m\u001b[0;34m.\u001b[0m\u001b[0mapply\u001b[0m\u001b[0;34m(\u001b[0m\u001b[0maux_function\u001b[0m\u001b[0;34m,\u001b[0m \u001b[0;34m**\u001b[0m\u001b[0;34m{\u001b[0m\u001b[0;34m'periodograms'\u001b[0m\u001b[0;34m:\u001b[0m \u001b[0mperiodograms\u001b[0m\u001b[0;34m}\u001b[0m\u001b[0;34m)\u001b[0m\u001b[0;34m\u001b[0m\u001b[0;34m\u001b[0m\u001b[0m\n\u001b[0m\u001b[1;32m    106\u001b[0m         \u001b[0mfeatures\u001b[0m\u001b[0;34m.\u001b[0m\u001b[0mindex\u001b[0m\u001b[0;34m.\u001b[0m\u001b[0mname\u001b[0m \u001b[0;34m=\u001b[0m \u001b[0;34m'oid'\u001b[0m\u001b[0;34m\u001b[0m\u001b[0;34m\u001b[0m\u001b[0m\n\u001b[1;32m    107\u001b[0m \u001b[0;34m\u001b[0m\u001b[0m\n",
            "\u001b[0;32m/usr/local/lib/python3.7/dist-packages/pandas/core/groupby/groupby.py\u001b[0m in \u001b[0;36mapply\u001b[0;34m(self, func, *args, **kwargs)\u001b[0m\n\u001b[1;32m    857\u001b[0m         \u001b[0;32mwith\u001b[0m \u001b[0moption_context\u001b[0m\u001b[0;34m(\u001b[0m\u001b[0;34m\"mode.chained_assignment\"\u001b[0m\u001b[0;34m,\u001b[0m \u001b[0;32mNone\u001b[0m\u001b[0;34m)\u001b[0m\u001b[0;34m:\u001b[0m\u001b[0;34m\u001b[0m\u001b[0;34m\u001b[0m\u001b[0m\n\u001b[1;32m    858\u001b[0m             \u001b[0;32mtry\u001b[0m\u001b[0;34m:\u001b[0m\u001b[0;34m\u001b[0m\u001b[0;34m\u001b[0m\u001b[0m\n\u001b[0;32m--> 859\u001b[0;31m                 \u001b[0mresult\u001b[0m \u001b[0;34m=\u001b[0m \u001b[0mself\u001b[0m\u001b[0;34m.\u001b[0m\u001b[0m_python_apply_general\u001b[0m\u001b[0;34m(\u001b[0m\u001b[0mf\u001b[0m\u001b[0;34m,\u001b[0m \u001b[0mself\u001b[0m\u001b[0;34m.\u001b[0m\u001b[0m_selected_obj\u001b[0m\u001b[0;34m)\u001b[0m\u001b[0;34m\u001b[0m\u001b[0;34m\u001b[0m\u001b[0m\n\u001b[0m\u001b[1;32m    860\u001b[0m             \u001b[0;32mexcept\u001b[0m \u001b[0mTypeError\u001b[0m\u001b[0;34m:\u001b[0m\u001b[0;34m\u001b[0m\u001b[0;34m\u001b[0m\u001b[0m\n\u001b[1;32m    861\u001b[0m                 \u001b[0;31m# gh-20949\u001b[0m\u001b[0;34m\u001b[0m\u001b[0;34m\u001b[0m\u001b[0;34m\u001b[0m\u001b[0m\n",
            "\u001b[0;32m/usr/local/lib/python3.7/dist-packages/pandas/core/groupby/groupby.py\u001b[0m in \u001b[0;36m_python_apply_general\u001b[0;34m(self, f, data)\u001b[0m\n\u001b[1;32m    890\u001b[0m             \u001b[0mdata\u001b[0m \u001b[0mafter\u001b[0m \u001b[0mapplying\u001b[0m \u001b[0mf\u001b[0m\u001b[0;34m\u001b[0m\u001b[0;34m\u001b[0m\u001b[0m\n\u001b[1;32m    891\u001b[0m         \"\"\"\n\u001b[0;32m--> 892\u001b[0;31m         \u001b[0mkeys\u001b[0m\u001b[0;34m,\u001b[0m \u001b[0mvalues\u001b[0m\u001b[0;34m,\u001b[0m \u001b[0mmutated\u001b[0m \u001b[0;34m=\u001b[0m \u001b[0mself\u001b[0m\u001b[0;34m.\u001b[0m\u001b[0mgrouper\u001b[0m\u001b[0;34m.\u001b[0m\u001b[0mapply\u001b[0m\u001b[0;34m(\u001b[0m\u001b[0mf\u001b[0m\u001b[0;34m,\u001b[0m \u001b[0mdata\u001b[0m\u001b[0;34m,\u001b[0m \u001b[0mself\u001b[0m\u001b[0;34m.\u001b[0m\u001b[0maxis\u001b[0m\u001b[0;34m)\u001b[0m\u001b[0;34m\u001b[0m\u001b[0;34m\u001b[0m\u001b[0m\n\u001b[0m\u001b[1;32m    893\u001b[0m \u001b[0;34m\u001b[0m\u001b[0m\n\u001b[1;32m    894\u001b[0m         return self._wrap_applied_output(\n",
            "\u001b[0;32m/usr/local/lib/python3.7/dist-packages/pandas/core/groupby/ops.py\u001b[0m in \u001b[0;36mapply\u001b[0;34m(self, f, data, axis)\u001b[0m\n\u001b[1;32m    218\u001b[0m             \u001b[0;31m# group might be modified\u001b[0m\u001b[0;34m\u001b[0m\u001b[0;34m\u001b[0m\u001b[0;34m\u001b[0m\u001b[0m\n\u001b[1;32m    219\u001b[0m             \u001b[0mgroup_axes\u001b[0m \u001b[0;34m=\u001b[0m \u001b[0mgroup\u001b[0m\u001b[0;34m.\u001b[0m\u001b[0maxes\u001b[0m\u001b[0;34m\u001b[0m\u001b[0;34m\u001b[0m\u001b[0m\n\u001b[0;32m--> 220\u001b[0;31m             \u001b[0mres\u001b[0m \u001b[0;34m=\u001b[0m \u001b[0mf\u001b[0m\u001b[0;34m(\u001b[0m\u001b[0mgroup\u001b[0m\u001b[0;34m)\u001b[0m\u001b[0;34m\u001b[0m\u001b[0;34m\u001b[0m\u001b[0m\n\u001b[0m\u001b[1;32m    221\u001b[0m             \u001b[0;32mif\u001b[0m \u001b[0;32mnot\u001b[0m \u001b[0m_is_indexed_like\u001b[0m\u001b[0;34m(\u001b[0m\u001b[0mres\u001b[0m\u001b[0;34m,\u001b[0m \u001b[0mgroup_axes\u001b[0m\u001b[0;34m)\u001b[0m\u001b[0;34m:\u001b[0m\u001b[0;34m\u001b[0m\u001b[0;34m\u001b[0m\u001b[0m\n\u001b[1;32m    222\u001b[0m                 \u001b[0mmutated\u001b[0m \u001b[0;34m=\u001b[0m \u001b[0;32mTrue\u001b[0m\u001b[0;34m\u001b[0m\u001b[0;34m\u001b[0m\u001b[0m\n",
            "\u001b[0;32m/usr/local/lib/python3.7/dist-packages/pandas/core/groupby/groupby.py\u001b[0m in \u001b[0;36mf\u001b[0;34m(g)\u001b[0m\n\u001b[1;32m    841\u001b[0m                 \u001b[0;32mdef\u001b[0m \u001b[0mf\u001b[0m\u001b[0;34m(\u001b[0m\u001b[0mg\u001b[0m\u001b[0;34m)\u001b[0m\u001b[0;34m:\u001b[0m\u001b[0;34m\u001b[0m\u001b[0;34m\u001b[0m\u001b[0m\n\u001b[1;32m    842\u001b[0m                     \u001b[0;32mwith\u001b[0m \u001b[0mnp\u001b[0m\u001b[0;34m.\u001b[0m\u001b[0merrstate\u001b[0m\u001b[0;34m(\u001b[0m\u001b[0mall\u001b[0m\u001b[0;34m=\u001b[0m\u001b[0;34m\"ignore\"\u001b[0m\u001b[0;34m)\u001b[0m\u001b[0;34m:\u001b[0m\u001b[0;34m\u001b[0m\u001b[0;34m\u001b[0m\u001b[0m\n\u001b[0;32m--> 843\u001b[0;31m                         \u001b[0;32mreturn\u001b[0m \u001b[0mfunc\u001b[0m\u001b[0;34m(\u001b[0m\u001b[0mg\u001b[0m\u001b[0;34m,\u001b[0m \u001b[0;34m*\u001b[0m\u001b[0margs\u001b[0m\u001b[0;34m,\u001b[0m \u001b[0;34m**\u001b[0m\u001b[0mkwargs\u001b[0m\u001b[0;34m)\u001b[0m\u001b[0;34m\u001b[0m\u001b[0;34m\u001b[0m\u001b[0m\n\u001b[0m\u001b[1;32m    844\u001b[0m \u001b[0;34m\u001b[0m\u001b[0m\n\u001b[1;32m    845\u001b[0m             \u001b[0;32melif\u001b[0m \u001b[0mhasattr\u001b[0m\u001b[0;34m(\u001b[0m\u001b[0mnanops\u001b[0m\u001b[0;34m,\u001b[0m \u001b[0;34m\"nan\"\u001b[0m \u001b[0;34m+\u001b[0m \u001b[0mfunc\u001b[0m\u001b[0;34m)\u001b[0m\u001b[0;34m:\u001b[0m\u001b[0;34m\u001b[0m\u001b[0;34m\u001b[0m\u001b[0m\n",
            "\u001b[0;32m/content/src/lc-classifier/lc_classifier/features/extractors/period_extractor.py\u001b[0m in \u001b[0;36maux_function\u001b[0;34m(oid_detections, **kwargs)\u001b[0m\n\u001b[1;32m     49\u001b[0m                 \u001b[0mmags\u001b[0m\u001b[0;34m=\u001b[0m\u001b[0moid_detections\u001b[0m\u001b[0;34m[\u001b[0m\u001b[0;34m'magnitude'\u001b[0m\u001b[0;34m]\u001b[0m\u001b[0;34m.\u001b[0m\u001b[0mvalues\u001b[0m\u001b[0;34m,\u001b[0m\u001b[0;34m\u001b[0m\u001b[0;34m\u001b[0m\u001b[0m\n\u001b[1;32m     50\u001b[0m                 \u001b[0merrs\u001b[0m\u001b[0;34m=\u001b[0m\u001b[0moid_detections\u001b[0m\u001b[0;34m[\u001b[0m\u001b[0;34m'error'\u001b[0m\u001b[0;34m]\u001b[0m\u001b[0;34m.\u001b[0m\u001b[0mvalues\u001b[0m\u001b[0;34m,\u001b[0m\u001b[0;34m\u001b[0m\u001b[0;34m\u001b[0m\u001b[0m\n\u001b[0;32m---> 51\u001b[0;31m                 fids=bands)\n\u001b[0m\u001b[1;32m     52\u001b[0m \u001b[0;34m\u001b[0m\u001b[0m\n\u001b[1;32m     53\u001b[0m             \u001b[0;32mtry\u001b[0m\u001b[0;34m:\u001b[0m\u001b[0;34m\u001b[0m\u001b[0;34m\u001b[0m\u001b[0m\n",
            "\u001b[0;32m/content/src/p4j/P4J/periodograms.py\u001b[0m in \u001b[0;36mset_data\u001b[0;34m(self, mjds, mags, errs, fids)\u001b[0m\n\u001b[1;32m     42\u001b[0m             self.lc_stats.update({\n\u001b[1;32m     43\u001b[0m                 \u001b[0mfilter_name\u001b[0m\u001b[0;34m:\u001b[0m\u001b[0;34m\u001b[0m\u001b[0;34m\u001b[0m\u001b[0m\n\u001b[0;32m---> 44\u001b[0;31m                     Stats(loc=robust_loc(self.mags[mask], weights),\n\u001b[0m\u001b[1;32m     45\u001b[0m                           \u001b[0mscale\u001b[0m\u001b[0;34m=\u001b[0m\u001b[0mrobust_scale\u001b[0m\u001b[0;34m(\u001b[0m\u001b[0mself\u001b[0m\u001b[0;34m.\u001b[0m\u001b[0mmags\u001b[0m\u001b[0;34m[\u001b[0m\u001b[0mmask\u001b[0m\u001b[0;34m]\u001b[0m\u001b[0;34m,\u001b[0m \u001b[0mweights\u001b[0m\u001b[0;34m)\u001b[0m\u001b[0;34m,\u001b[0m\u001b[0;34m\u001b[0m\u001b[0;34m\u001b[0m\u001b[0m\n\u001b[1;32m     46\u001b[0m                           N=len(self.mjds[mask]))})\n",
            "\u001b[0;32m/content/src/p4j/P4J/math.py\u001b[0m in \u001b[0;36mrobust_loc\u001b[0;34m(x, weights)\u001b[0m\n\u001b[1;32m     61\u001b[0m \u001b[0;34m\u001b[0m\u001b[0m\n\u001b[1;32m     62\u001b[0m \u001b[0;32mdef\u001b[0m \u001b[0mrobust_loc\u001b[0m\u001b[0;34m(\u001b[0m\u001b[0mx\u001b[0m\u001b[0;34m,\u001b[0m \u001b[0mweights\u001b[0m\u001b[0;34m)\u001b[0m\u001b[0;34m:\u001b[0m\u001b[0;34m\u001b[0m\u001b[0;34m\u001b[0m\u001b[0m\n\u001b[0;32m---> 63\u001b[0;31m     \u001b[0;32mreturn\u001b[0m \u001b[0mweighted_quantile\u001b[0m\u001b[0;34m(\u001b[0m\u001b[0mx\u001b[0m\u001b[0;34m,\u001b[0m \u001b[0mweights\u001b[0m\u001b[0;34m,\u001b[0m \u001b[0;36m0.5\u001b[0m\u001b[0;34m)\u001b[0m\u001b[0;34m\u001b[0m\u001b[0;34m\u001b[0m\u001b[0m\n\u001b[0m\u001b[1;32m     64\u001b[0m \u001b[0;34m\u001b[0m\u001b[0m\n\u001b[1;32m     65\u001b[0m \u001b[0;34m\u001b[0m\u001b[0m\n",
            "\u001b[0;32m/content/src/p4j/P4J/math.py\u001b[0m in \u001b[0;36mweighted_quantile\u001b[0;34m(x, weights, quantile)\u001b[0m\n\u001b[1;32m     28\u001b[0m         \u001b[0mtmp1\u001b[0m \u001b[0;34m=\u001b[0m \u001b[0;34m(\u001b[0m\u001b[0mnorm_w\u001b[0m\u001b[0;34m[\u001b[0m\u001b[0minterpq\u001b[0m\u001b[0;34m]\u001b[0m \u001b[0;34m-\u001b[0m \u001b[0mquantile\u001b[0m\u001b[0;34m)\u001b[0m\u001b[0;34m/\u001b[0m\u001b[0;34m(\u001b[0m\u001b[0mnorm_w\u001b[0m\u001b[0;34m[\u001b[0m\u001b[0minterpq\u001b[0m\u001b[0;34m]\u001b[0m \u001b[0;34m-\u001b[0m \u001b[0mnorm_w\u001b[0m\u001b[0;34m[\u001b[0m\u001b[0minterpq\u001b[0m\u001b[0;34m-\u001b[0m\u001b[0;36m1\u001b[0m\u001b[0;34m]\u001b[0m\u001b[0;34m)\u001b[0m\u001b[0;34m\u001b[0m\u001b[0;34m\u001b[0m\u001b[0m\n\u001b[1;32m     29\u001b[0m         \u001b[0mtmp2\u001b[0m \u001b[0;34m=\u001b[0m \u001b[0;34m(\u001b[0m\u001b[0mquantile\u001b[0m \u001b[0;34m-\u001b[0m \u001b[0mnorm_w\u001b[0m\u001b[0;34m[\u001b[0m\u001b[0minterpq\u001b[0m\u001b[0;34m-\u001b[0m\u001b[0;36m1\u001b[0m\u001b[0;34m]\u001b[0m\u001b[0;34m)\u001b[0m\u001b[0;34m/\u001b[0m\u001b[0;34m(\u001b[0m\u001b[0mnorm_w\u001b[0m\u001b[0;34m[\u001b[0m\u001b[0minterpq\u001b[0m\u001b[0;34m]\u001b[0m \u001b[0;34m-\u001b[0m \u001b[0mnorm_w\u001b[0m\u001b[0;34m[\u001b[0m\u001b[0minterpq\u001b[0m\u001b[0;34m-\u001b[0m\u001b[0;36m1\u001b[0m\u001b[0;34m]\u001b[0m\u001b[0;34m)\u001b[0m\u001b[0;34m\u001b[0m\u001b[0;34m\u001b[0m\u001b[0m\n\u001b[0;32m---> 30\u001b[0;31m         \u001b[0;32massert\u001b[0m \u001b[0mtmp1\u001b[0m\u001b[0;34m>=\u001b[0m\u001b[0;36m0\u001b[0m \u001b[0;32mand\u001b[0m \u001b[0mtmp2\u001b[0m\u001b[0;34m>=\u001b[0m\u001b[0;36m0\u001b[0m \u001b[0;32mand\u001b[0m \u001b[0mtmp1\u001b[0m\u001b[0;34m<=\u001b[0m\u001b[0;36m1\u001b[0m \u001b[0;32mand\u001b[0m \u001b[0mtmp2\u001b[0m\u001b[0;34m<=\u001b[0m\u001b[0;36m1\u001b[0m\u001b[0;34m\u001b[0m\u001b[0;34m\u001b[0m\u001b[0m\n\u001b[0m\u001b[1;32m     31\u001b[0m         \u001b[0;32mreturn\u001b[0m \u001b[0msort_x\u001b[0m\u001b[0;34m[\u001b[0m\u001b[0minterpq\u001b[0m\u001b[0;34m-\u001b[0m\u001b[0;36m1\u001b[0m\u001b[0;34m]\u001b[0m\u001b[0;34m*\u001b[0m\u001b[0mtmp1\u001b[0m \u001b[0;34m+\u001b[0m \u001b[0msort_x\u001b[0m\u001b[0;34m[\u001b[0m\u001b[0minterpq\u001b[0m\u001b[0;34m]\u001b[0m\u001b[0;34m*\u001b[0m\u001b[0mtmp2\u001b[0m\u001b[0;34m\u001b[0m\u001b[0;34m\u001b[0m\u001b[0m\n\u001b[1;32m     32\u001b[0m \u001b[0;34m\u001b[0m\u001b[0m\n",
            "\u001b[0;31mAssertionError\u001b[0m: "
          ]
        }
      ]
    },
    {
      "cell_type": "code",
      "metadata": {
        "id": "HqOITNS56lpm"
      },
      "source": [
        "period_feature_names = [f for f in features.columns if 'period' in f.lower()]"
      ],
      "execution_count": null,
      "outputs": []
    },
    {
      "cell_type": "code",
      "metadata": {
        "id": "YOV4ovj2x0_1"
      },
      "source": [
        "computed_periods = features['Multiband_period']\n",
        "features.to_csv('featured_alerts.csv')"
      ],
      "execution_count": null,
      "outputs": []
    },
    {
      "cell_type": "markdown",
      "metadata": {
        "id": "Dn3sYuz-HrRt"
      },
      "source": [
        "# Aparte"
      ]
    },
    {
      "cell_type": "code",
      "metadata": {
        "colab": {
          "base_uri": "https://localhost:8080/",
          "height": 359
        },
        "id": "6Jv4DbgqHqwb",
        "outputId": "cdcef417-21e4-448c-b369-253f0d9331aa"
      },
      "source": [
        "alerts = pd.read_csv(\"filtered_alerts.csv\")\n",
        "alerts.head(10)"
      ],
      "execution_count": null,
      "outputs": [
        {
          "output_type": "execute_result",
          "data": {
            "text/html": [
              "<div>\n",
              "<style scoped>\n",
              "    .dataframe tbody tr th:only-of-type {\n",
              "        vertical-align: middle;\n",
              "    }\n",
              "\n",
              "    .dataframe tbody tr th {\n",
              "        vertical-align: top;\n",
              "    }\n",
              "\n",
              "    .dataframe thead th {\n",
              "        text-align: right;\n",
              "    }\n",
              "</style>\n",
              "<table border=\"1\" class=\"dataframe\">\n",
              "  <thead>\n",
              "    <tr style=\"text-align: right;\">\n",
              "      <th></th>\n",
              "      <th>Unnamed: 0</th>\n",
              "      <th>oid</th>\n",
              "      <th>candid</th>\n",
              "      <th>dec</th>\n",
              "      <th>fid</th>\n",
              "      <th>mjd</th>\n",
              "      <th>magpsf_corr</th>\n",
              "      <th>ra</th>\n",
              "      <th>sigmapsf_corr</th>\n",
              "    </tr>\n",
              "  </thead>\n",
              "  <tbody>\n",
              "    <tr>\n",
              "      <th>0</th>\n",
              "      <td>43</td>\n",
              "      <td>ZTF18ablusst</td>\n",
              "      <td>852479735715015015</td>\n",
              "      <td>-6.465756</td>\n",
              "      <td>1</td>\n",
              "      <td>58606.479734</td>\n",
              "      <td>17.612375</td>\n",
              "      <td>285.974146</td>\n",
              "      <td>0.027428</td>\n",
              "    </tr>\n",
              "    <tr>\n",
              "      <th>1</th>\n",
              "      <td>66</td>\n",
              "      <td>ZTF18ablutuy</td>\n",
              "      <td>580337852915015006</td>\n",
              "      <td>-24.483665</td>\n",
              "      <td>2</td>\n",
              "      <td>58334.337859</td>\n",
              "      <td>14.735083</td>\n",
              "      <td>283.820669</td>\n",
              "      <td>0.013329</td>\n",
              "    </tr>\n",
              "    <tr>\n",
              "      <th>2</th>\n",
              "      <td>67</td>\n",
              "      <td>ZTF18ablutvl</td>\n",
              "      <td>889297145115010019</td>\n",
              "      <td>-7.306290</td>\n",
              "      <td>2</td>\n",
              "      <td>58643.297141</td>\n",
              "      <td>17.014446</td>\n",
              "      <td>284.240721</td>\n",
              "      <td>0.015508</td>\n",
              "    </tr>\n",
              "    <tr>\n",
              "      <th>3</th>\n",
              "      <td>70</td>\n",
              "      <td>ZTF18ablutwd</td>\n",
              "      <td>894334545615015010</td>\n",
              "      <td>-14.001698</td>\n",
              "      <td>1</td>\n",
              "      <td>58648.334549</td>\n",
              "      <td>13.388574</td>\n",
              "      <td>275.982520</td>\n",
              "      <td>100.000000</td>\n",
              "    </tr>\n",
              "    <tr>\n",
              "      <th>4</th>\n",
              "      <td>77</td>\n",
              "      <td>ZTF18abluulc</td>\n",
              "      <td>1187501925815010001</td>\n",
              "      <td>-14.258699</td>\n",
              "      <td>2</td>\n",
              "      <td>58941.501921</td>\n",
              "      <td>12.949492</td>\n",
              "      <td>275.322053</td>\n",
              "      <td>100.000000</td>\n",
              "    </tr>\n",
              "    <tr>\n",
              "      <th>5</th>\n",
              "      <td>108</td>\n",
              "      <td>ZTF18aawlhni</td>\n",
              "      <td>978362871815010007</td>\n",
              "      <td>60.938628</td>\n",
              "      <td>1</td>\n",
              "      <td>58732.362870</td>\n",
              "      <td>16.428589</td>\n",
              "      <td>291.990880</td>\n",
              "      <td>100.000000</td>\n",
              "    </tr>\n",
              "    <tr>\n",
              "      <th>6</th>\n",
              "      <td>109</td>\n",
              "      <td>ZTF18aawlhni</td>\n",
              "      <td>1031170541815015004</td>\n",
              "      <td>60.938580</td>\n",
              "      <td>1</td>\n",
              "      <td>58785.170544</td>\n",
              "      <td>15.383415</td>\n",
              "      <td>291.990882</td>\n",
              "      <td>0.015321</td>\n",
              "    </tr>\n",
              "    <tr>\n",
              "      <th>7</th>\n",
              "      <td>114</td>\n",
              "      <td>ZTF18aawlhrt</td>\n",
              "      <td>512456551115015002</td>\n",
              "      <td>58.951151</td>\n",
              "      <td>1</td>\n",
              "      <td>58266.456551</td>\n",
              "      <td>12.855704</td>\n",
              "      <td>286.192550</td>\n",
              "      <td>100.000000</td>\n",
              "    </tr>\n",
              "    <tr>\n",
              "      <th>8</th>\n",
              "      <td>115</td>\n",
              "      <td>ZTF18aawlhrt</td>\n",
              "      <td>909343831115015005</td>\n",
              "      <td>58.951104</td>\n",
              "      <td>2</td>\n",
              "      <td>58663.343831</td>\n",
              "      <td>12.595240</td>\n",
              "      <td>286.192925</td>\n",
              "      <td>100.000000</td>\n",
              "    </tr>\n",
              "    <tr>\n",
              "      <th>9</th>\n",
              "      <td>116</td>\n",
              "      <td>ZTF18aawlhrt</td>\n",
              "      <td>985241991115010002</td>\n",
              "      <td>58.951175</td>\n",
              "      <td>1</td>\n",
              "      <td>58739.241991</td>\n",
              "      <td>13.448686</td>\n",
              "      <td>286.192633</td>\n",
              "      <td>100.000000</td>\n",
              "    </tr>\n",
              "  </tbody>\n",
              "</table>\n",
              "</div>"
            ],
            "text/plain": [
              "   Unnamed: 0           oid  ...          ra  sigmapsf_corr\n",
              "0          43  ZTF18ablusst  ...  285.974146       0.027428\n",
              "1          66  ZTF18ablutuy  ...  283.820669       0.013329\n",
              "2          67  ZTF18ablutvl  ...  284.240721       0.015508\n",
              "3          70  ZTF18ablutwd  ...  275.982520     100.000000\n",
              "4          77  ZTF18abluulc  ...  275.322053     100.000000\n",
              "5         108  ZTF18aawlhni  ...  291.990880     100.000000\n",
              "6         109  ZTF18aawlhni  ...  291.990882       0.015321\n",
              "7         114  ZTF18aawlhrt  ...  286.192550     100.000000\n",
              "8         115  ZTF18aawlhrt  ...  286.192925     100.000000\n",
              "9         116  ZTF18aawlhrt  ...  286.192633     100.000000\n",
              "\n",
              "[10 rows x 9 columns]"
            ]
          },
          "metadata": {},
          "execution_count": 33
        }
      ]
    }
  ]
}