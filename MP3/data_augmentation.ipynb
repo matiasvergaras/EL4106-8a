{
  "nbformat": 4,
  "nbformat_minor": 0,
  "metadata": {
    "colab": {
      "name": "data_augmentation.ipynb",
      "provenance": []
    },
    "kernelspec": {
      "name": "python3",
      "display_name": "Python 3"
    },
    "language_info": {
      "name": "python"
    }
  },
  "cells": [
    {
      "cell_type": "markdown",
      "metadata": {
        "id": "oGE932GqHXJo"
      },
      "source": [
        "# Data augmentation\n",
        "## Inteligencia Computacional 2021-2, Grupo 8a\n",
        "Nicolás Canales, Matías Vergara\n",
        "\n",
        "Este notebook tiene por objetivo crear entradas falsas para balancear en parte las clases de objetos periodicos presentes en el dataset. \n",
        "\n",
        "Recordemos que los objetos periódicos son aquellos clasificados por ALeRCE como: \"LPV\", \"Periodic-Other\", \"RRL\", \"CEP\", \"E\" o \"DSCT\". Veamos cuántos objetos distintos hay en el dataset para cada clase:\n"
      ]
    },
    {
      "cell_type": "code",
      "metadata": {
        "id": "0WCTNalCLloI"
      },
      "source": [
        "# imports necesarios\n",
        "import pandas as pd\n",
        "import random"
      ],
      "execution_count": null,
      "outputs": []
    },
    {
      "cell_type": "code",
      "metadata": {
        "colab": {
          "base_uri": "https://localhost:8080/"
        },
        "id": "K21V0I5CHT_a",
        "outputId": "3b74b8a7-c42e-4d0f-8c76-80d84a09c747"
      },
      "source": [
        "# traemos el archivo filtered_alerts.csv, que incluye todas las alertas filtradas\n",
        "!gdown --id 1bXgIR1nLk0iXrGtWaXBGBbl-goe23pXX\n",
        "# traemos tambien el archivo labels.csv, con las clasificaciones\n",
        "!gdown --id  1LU1sCIVXO8BQRMeKCCqu1vZGnceV6P5c"
      ],
      "execution_count": null,
      "outputs": [
        {
          "output_type": "stream",
          "name": "stdout",
          "text": [
            "Downloading...\n",
            "From: https://drive.google.com/uc?id=1bXgIR1nLk0iXrGtWaXBGBbl-goe23pXX\n",
            "To: /content/filtered_alerts.csv\n",
            "100% 756M/756M [00:04<00:00, 187MB/s]\n",
            "Downloading...\n",
            "From: https://drive.google.com/uc?id=1LU1sCIVXO8BQRMeKCCqu1vZGnceV6P5c\n",
            "To: /content/labels_set.csv\n",
            "100% 10.2M/10.2M [00:00<00:00, 140MB/s]\n"
          ]
        }
      ]
    },
    {
      "cell_type": "code",
      "metadata": {
        "id": "mXT89w18Lpqr"
      },
      "source": [
        "# cargamos los csv a dataframes de pandas\n",
        "filtered_alerts = pd.read_csv(\"filtered_alerts.csv\", index_col = 0).dropna()\n",
        "labels = pd.read_csv(\"labels_set.csv\", index_col = 0)"
      ],
      "execution_count": null,
      "outputs": []
    },
    {
      "cell_type": "code",
      "metadata": {
        "id": "XKi79YZrLkkb",
        "colab": {
          "base_uri": "https://localhost:8080/"
        },
        "outputId": "32616c93-f683-4ed5-8357-3a5352e242c8"
      },
      "source": [
        "# contamos cuantos oid distintos en las alertas filtradas corresponden\n",
        "# a cada clase periodica en los labels\n",
        "count = {\"LPV\":0, \"Periodic-Other\": 0, \"RRL\": 0, \"CEP\": 0, \"E\": 0, \"DSCT\": 0}\n",
        "for oid in filtered_alerts.index.unique():\n",
        "  try:\n",
        "    alerce_class = labels.loc[oid].values[0]\n",
        "    count[alerce_class] += 1\n",
        "  except:\n",
        "    pass\n",
        "count\n",
        "\n",
        "#87015 \n",
        "# estamos agregando casi un 3% de data"
      ],
      "execution_count": null,
      "outputs": [
        {
          "output_type": "execute_result",
          "data": {
            "text/plain": [
              "{'CEP': 618,\n",
              " 'DSCT': 732,\n",
              " 'E': 37900,\n",
              " 'LPV': 14045,\n",
              " 'Periodic-Other': 1256,\n",
              " 'RRL': 32464}"
            ]
          },
          "metadata": {},
          "execution_count": 19
        }
      ]
    },
    {
      "cell_type": "markdown",
      "metadata": {
        "id": "2W3TClCVMwm3"
      },
      "source": [
        "Notamos un importante debalance de clases, que deja muy infrarrepresentadas las clases CEP, DSCT y Periodic-Other. Crearemos curvas de luz sintéticas para estas clases, basándonos en las que ya existen y cambiando levemente sus características `magnitud`, `tiempo`, `error_ext`. El atributo `error` no lo usamos (recomendación del auxiliar) por lo cual lo dejaremos en None (el valor realmente no importa, pues se ignora en la extracción de features)."
      ]
    },
    {
      "cell_type": "code",
      "metadata": {
        "id": "P9GSj2VqK-up",
        "colab": {
          "base_uri": "https://localhost:8080/"
        },
        "outputId": "7568f54c-fd62-447d-b797-e229f83b5d3f"
      },
      "source": [
        "# la forma menos bacán de hacerlo (la mas facil a mi parecer) es,\n",
        "# de los CEP, DSCT y Periodic-Other en \n",
        "# labels_set, sacar los OID. \n",
        "CEPS = []\n",
        "DSCTS = []\n",
        "POS = []\n",
        "\n",
        "for index, row in labels.iterrows():\n",
        "  classf = row['classALeRCE']\n",
        "  if classf == 'CEP':\n",
        "    CEPS.append(index)\n",
        "  elif classf == 'DSCT':\n",
        "    DSCTS.append(index)\n",
        "  elif classf == 'Periodic-Other':\n",
        "    POS.append(index)\n",
        "  else:\n",
        "    pass\n",
        "\n",
        "#print(CEPS)\n",
        "print(len(CEPS))\n",
        "print(len(DSCTS))\n",
        "print(len(POS))\n",
        "\n"
      ],
      "execution_count": null,
      "outputs": [
        {
          "output_type": "stream",
          "name": "stdout",
          "text": [
            "618\n",
            "732\n",
            "1256\n"
          ]
        }
      ]
    },
    {
      "cell_type": "code",
      "metadata": {
        "colab": {
          "base_uri": "https://localhost:8080/"
        },
        "id": "4eV6Erl28lcn",
        "outputId": "a9154717-b74d-4890-e985-f3af3211d3f0"
      },
      "source": [
        "# Con eso, ir al filtered_alerts y hacer filtered_alerts.loc(OID)\n",
        "# eso te va a dar un dataframe con todas las entradas de ese objeto. \n",
        "# AZK123 | 12.434823 | 534912 | 100 | 0.55\n",
        "# AZK123 | 14.524823 | 534102 | 0.3 | 0.63\n",
        "# AZK123 | 10.042823 | 534400 | 0.5 | 0.65\n",
        "# AZK123 | 19.104823 | 534568 | 100 | 0.59\n",
        "# AZK123 | 10.348023 | 534964 | 100 | 0.51\n",
        "\n",
        "#... si hay columnas extras como el candid o las de ubicacion, las ignoramos \n",
        "# (no las dropeemos para reutilizar los mismos scripts de procesamiento)\n",
        "\n",
        "# cambiarles el oid por algo asi como \"sinteticCEP01\"\n",
        "\n",
        "# sinteticCEP01 | 12.434823 | 534912 | 100 | 0.55\n",
        "# sinteticCEP01 | 14.524823 | 534102 | 0.3 | 0.63\n",
        "# sinteticCEP01 | 10.042823 | 534400 | 0.5 | 0.65\n",
        "# sinteticCEP01 | 19.104823 | 534568 | 100 | 0.59\n",
        "# sinteticCEP01 | 10.348023 | 534964 | 100 | 0.51\n",
        "\n",
        "# y metele un poco de ruido aleatorio a cada variable (manteniendo sus escalas)\n",
        "\n",
        "# sinteticCEP01 | 11.394823 | 534600 | None | 0.53\n",
        "# sinteticCEP01 | 13.694823 | 534795 | None | 0.60\n",
        "# sinteticCEP01 | 12.122823 | 534604 | None | 0.66\n",
        "# sinteticCEP01 | 17.144823 | 535100 | None | 0.57\n",
        "# sinteticCEP01 | 19.348023 | 534503 | None | 0.51\n",
        "\n",
        "# el campo del error normal podemos dejarlo tal cual o mandarlo a None, porque se ignora\n",
        "# al calcular features\n",
        "\n",
        "# Hacer eso mismo para cada CEP, DSCT y Periodic-Other. Eso nos dejará con \n",
        "# el doble de CEP, de DSCT y de Periodic-Other (sigue siendo poco en comparación\n",
        "# a sus pares, pero por lo menos es algo más).\n",
        "\n",
        "\n",
        "def createSintetic(base_objects, name):\n",
        "  i = 0\n",
        "  for obj in base_objects:\n",
        "    obj_df = filtered_alerts.loc[obj]\n",
        "    obj_df.rename(index={obj:'sintetic{}{}'.format(name, i)},inplace=True)\n",
        "    max_sigmapsfcorrext = obj_df['sigmapsf_corr_ext'].max()\n",
        "    min_sigmapsfcorrext = obj_df['sigmapsf_corr_ext'].min()\n",
        "    max_time = obj_df['mjd'].max()\n",
        "    min_time = obj_df['mjd'].min()\n",
        "    max_mag = obj_df['magpsf_corr'].max()\n",
        "    min_mag = obj_df['magpsf_corr'].min()\n",
        "    for index, row in obj_df.iterrows():\n",
        "      ruido_sigmapsfcorrext = random.uniform(0, min(max_sigmapsfcorrext-min_sigmapsfcorrext, 5))\n",
        "      ruido_time = random.uniform(0, min(max_time-min_time, 200))\n",
        "      ruido_mag = random.uniform(0, min(max_mag-min_mag, 30))\n",
        "      obj_df.loc[index, 'sigmapsf_corr_ext'] += ruido_sigmapsfcorrext\n",
        "      obj_df.loc[index, 'magpsf_corr'] += ruido_mag\n",
        "      obj_df.loc[index, 'mjd'] += ruido_time\n",
        "    if i==0:\n",
        "      sintetics = obj_df\n",
        "    else:\n",
        "      sintetics = pd.concat([sintetics, obj_df])\n",
        "    i += 1\n",
        "  print(sintetics)\n",
        "  sintetics.to_csv(\"sintetics_{}.csv\".format(name))\n",
        "\n",
        "createSintetic(CEPS, \"CEPS\")\n",
        "createSintetic(DSCTS, \"DSCTS\")\n",
        "createSintetic(POS, \"PeriodicOther\")\n",
        "\n"
      ],
      "execution_count": null,
      "outputs": [
        {
          "output_type": "stream",
          "name": "stderr",
          "text": [
            "/usr/local/lib/python3.7/dist-packages/pandas/core/frame.py:4308: SettingWithCopyWarning: \n",
            "A value is trying to be set on a copy of a slice from a DataFrame\n",
            "\n",
            "See the caveats in the documentation: https://pandas.pydata.org/pandas-docs/stable/user_guide/indexing.html#returning-a-view-versus-a-copy\n",
            "  errors=errors,\n",
            "/usr/local/lib/python3.7/dist-packages/pandas/core/indexing.py:1743: SettingWithCopyWarning: \n",
            "A value is trying to be set on a copy of a slice from a DataFrame.\n",
            "Try using .loc[row_indexer,col_indexer] = value instead\n",
            "\n",
            "See the caveats in the documentation: https://pandas.pydata.org/pandas-docs/stable/user_guide/indexing.html#returning-a-view-versus-a-copy\n",
            "  isetter(ilocs[0], value)\n"
          ]
        },
        {
          "output_type": "stream",
          "name": "stdout",
          "text": [
            "                             candid  fid  ...  sigmapsf_corr  sigmapsf_corr_ext\n",
            "oid                                       ...                                  \n",
            "sinteticCEPS0    963378614515015001    1  ...       0.043460           0.463625\n",
            "sinteticCEPS0    951393324515010003    1  ...       0.059855           0.483000\n",
            "sinteticCEPS0    892439904515010001    1  ...       0.084891           0.506429\n",
            "sinteticCEPS0    882421164515015000    2  ...       0.025708           0.446361\n",
            "sinteticCEPS0    918422634515010002    1  ...       0.059055           0.481978\n",
            "...                             ...  ...  ...            ...                ...\n",
            "sinteticCEPS617  588404833615015015    1  ...     100.000000          11.509691\n",
            "sinteticCEPS617  957174983615015015    2  ...     100.000000          11.513635\n",
            "sinteticCEPS617  996162673615015007    2  ...     100.000000          11.503433\n",
            "sinteticCEPS617  980341273615015011    2  ...     100.000000          11.503037\n",
            "sinteticCEPS617  983282903615010013    2  ...     100.000000          11.505329\n",
            "\n",
            "[94421 rows x 6 columns]\n"
          ]
        },
        {
          "output_type": "stream",
          "name": "stderr",
          "text": [
            "/usr/local/lib/python3.7/dist-packages/pandas/core/frame.py:4308: SettingWithCopyWarning: \n",
            "A value is trying to be set on a copy of a slice from a DataFrame\n",
            "\n",
            "See the caveats in the documentation: https://pandas.pydata.org/pandas-docs/stable/user_guide/indexing.html#returning-a-view-versus-a-copy\n",
            "  errors=errors,\n",
            "/usr/local/lib/python3.7/dist-packages/pandas/core/indexing.py:1743: SettingWithCopyWarning: \n",
            "A value is trying to be set on a copy of a slice from a DataFrame.\n",
            "Try using .loc[row_indexer,col_indexer] = value instead\n",
            "\n",
            "See the caveats in the documentation: https://pandas.pydata.org/pandas-docs/stable/user_guide/indexing.html#returning-a-view-versus-a-copy\n",
            "  isetter(ilocs[0], value)\n"
          ]
        },
        {
          "output_type": "stream",
          "name": "stdout",
          "text": [
            "                               candid  fid  ...  sigmapsf_corr  sigmapsf_corr_ext\n",
            "oid                                         ...                                  \n",
            "sinteticDSCTS0     891295064115010001    2  ...     100.000000           0.904389\n",
            "sinteticDSCTS0     920204944115015001    1  ...       0.003735           0.902682\n",
            "sinteticDSCTS0     932189984115015004    1  ...     100.000000           0.899234\n",
            "sinteticDSCTS0     840274574115015003    1  ...     100.000000           0.896716\n",
            "sinteticDSCTS0    1119548254115010006    1  ...     100.000000           0.899430\n",
            "...                               ...  ...  ...            ...                ...\n",
            "sinteticDSCTS731  1237309203815015009    1  ...     100.000000           0.486996\n",
            "sinteticDSCTS731   522247003815010003    1  ...     100.000000           0.482169\n",
            "sinteticDSCTS731   726555693815010001    2  ...     100.000000           0.486311\n",
            "sinteticDSCTS731   687508803815010000    1  ...     100.000000           0.485347\n",
            "sinteticDSCTS731   540180563815010002    1  ...     100.000000           0.491778\n",
            "\n",
            "[85273 rows x 6 columns]\n"
          ]
        },
        {
          "output_type": "stream",
          "name": "stderr",
          "text": [
            "/usr/local/lib/python3.7/dist-packages/pandas/core/frame.py:4308: SettingWithCopyWarning: \n",
            "A value is trying to be set on a copy of a slice from a DataFrame\n",
            "\n",
            "See the caveats in the documentation: https://pandas.pydata.org/pandas-docs/stable/user_guide/indexing.html#returning-a-view-versus-a-copy\n",
            "  errors=errors,\n",
            "/usr/local/lib/python3.7/dist-packages/pandas/core/indexing.py:1743: SettingWithCopyWarning: \n",
            "A value is trying to be set on a copy of a slice from a DataFrame.\n",
            "Try using .loc[row_indexer,col_indexer] = value instead\n",
            "\n",
            "See the caveats in the documentation: https://pandas.pydata.org/pandas-docs/stable/user_guide/indexing.html#returning-a-view-versus-a-copy\n",
            "  isetter(ilocs[0], value)\n"
          ]
        },
        {
          "output_type": "stream",
          "name": "stdout",
          "text": [
            "                                        candid  ...  sigmapsf_corr_ext\n",
            "oid                                             ...                   \n",
            "sinteticPeriodicOther0     1081086850615015000  ...         176.846608\n",
            "sinteticPeriodicOther0     1084093430615010000  ...         177.941402\n",
            "sinteticPeriodicOther0     1031215530615010002  ...         177.107621\n",
            "sinteticPeriodicOther0     1052211230615010001  ...         177.807796\n",
            "sinteticPeriodicOther0     1057171000615015000  ...         176.787731\n",
            "...                                        ...  ...                ...\n",
            "sinteticPeriodicOther1255   757493372015010002  ...           0.264329\n",
            "sinteticPeriodicOther1255   748541842015010000  ...           0.256404\n",
            "sinteticPeriodicOther1255   733498622015010001  ...           0.263921\n",
            "sinteticPeriodicOther1255   751540392015010000  ...           0.256744\n",
            "sinteticPeriodicOther1255   722510682015010001  ...           0.257256\n",
            "\n",
            "[67272 rows x 6 columns]\n"
          ]
        }
      ]
    },
    {
      "cell_type": "markdown",
      "metadata": {
        "id": "JXDle_TmqDcK"
      },
      "source": [
        "Abrimos algunos de los dataframes originales para comparar los resultados sintéticos"
      ]
    },
    {
      "cell_type": "code",
      "metadata": {
        "colab": {
          "base_uri": "https://localhost:8080/"
        },
        "id": "S3KXt8LwKNWU",
        "outputId": "eb58d823-3722-4bde-a968-463a104fe365"
      },
      "source": [
        "filtered_alerts.loc[CEPS[0]].head()"
      ],
      "execution_count": null,
      "outputs": [
        {
          "output_type": "execute_result",
          "data": {
            "text/html": [
              "<div>\n",
              "<style scoped>\n",
              "    .dataframe tbody tr th:only-of-type {\n",
              "        vertical-align: middle;\n",
              "    }\n",
              "\n",
              "    .dataframe tbody tr th {\n",
              "        vertical-align: top;\n",
              "    }\n",
              "\n",
              "    .dataframe thead th {\n",
              "        text-align: right;\n",
              "    }\n",
              "</style>\n",
              "<table border=\"1\" class=\"dataframe\">\n",
              "  <thead>\n",
              "    <tr style=\"text-align: right;\">\n",
              "      <th></th>\n",
              "      <th>candid</th>\n",
              "      <th>fid</th>\n",
              "      <th>mjd</th>\n",
              "      <th>magpsf_corr</th>\n",
              "      <th>sigmapsf_corr</th>\n",
              "      <th>sigmapsf_corr_ext</th>\n",
              "    </tr>\n",
              "    <tr>\n",
              "      <th>oid</th>\n",
              "      <th></th>\n",
              "      <th></th>\n",
              "      <th></th>\n",
              "      <th></th>\n",
              "      <th></th>\n",
              "      <th></th>\n",
              "    </tr>\n",
              "  </thead>\n",
              "  <tbody>\n",
              "    <tr>\n",
              "      <th>ZTF18abwwdsc</th>\n",
              "      <td>963378614515015001</td>\n",
              "      <td>1</td>\n",
              "      <td>58717.378611</td>\n",
              "      <td>18.361734</td>\n",
              "      <td>0.043460</td>\n",
              "      <td>0.045807</td>\n",
              "    </tr>\n",
              "    <tr>\n",
              "      <th>ZTF18abwwdsc</th>\n",
              "      <td>951393324515010003</td>\n",
              "      <td>1</td>\n",
              "      <td>58705.393322</td>\n",
              "      <td>18.989523</td>\n",
              "      <td>0.059855</td>\n",
              "      <td>0.065182</td>\n",
              "    </tr>\n",
              "    <tr>\n",
              "      <th>ZTF18abwwdsc</th>\n",
              "      <td>892439904515010001</td>\n",
              "      <td>1</td>\n",
              "      <td>58646.439907</td>\n",
              "      <td>18.972616</td>\n",
              "      <td>0.084891</td>\n",
              "      <td>0.088612</td>\n",
              "    </tr>\n",
              "    <tr>\n",
              "      <th>ZTF18abwwdsc</th>\n",
              "      <td>882421164515015000</td>\n",
              "      <td>2</td>\n",
              "      <td>58636.421169</td>\n",
              "      <td>18.112520</td>\n",
              "      <td>0.025708</td>\n",
              "      <td>0.028543</td>\n",
              "    </tr>\n",
              "    <tr>\n",
              "      <th>ZTF18abwwdsc</th>\n",
              "      <td>918422634515010002</td>\n",
              "      <td>1</td>\n",
              "      <td>58672.422639</td>\n",
              "      <td>18.958513</td>\n",
              "      <td>0.059055</td>\n",
              "      <td>0.064161</td>\n",
              "    </tr>\n",
              "  </tbody>\n",
              "</table>\n",
              "</div>"
            ],
            "text/plain": [
              "                          candid  fid  ...  sigmapsf_corr  sigmapsf_corr_ext\n",
              "oid                                    ...                                  \n",
              "ZTF18abwwdsc  963378614515015001    1  ...       0.043460           0.045807\n",
              "ZTF18abwwdsc  951393324515010003    1  ...       0.059855           0.065182\n",
              "ZTF18abwwdsc  892439904515010001    1  ...       0.084891           0.088612\n",
              "ZTF18abwwdsc  882421164515015000    2  ...       0.025708           0.028543\n",
              "ZTF18abwwdsc  918422634515010002    1  ...       0.059055           0.064161\n",
              "\n",
              "[5 rows x 6 columns]"
            ]
          },
          "metadata": {},
          "execution_count": 22
        }
      ]
    },
    {
      "cell_type": "code",
      "metadata": {
        "colab": {
          "base_uri": "https://localhost:8080/",
          "height": 234
        },
        "id": "dxTiGYyMu162",
        "outputId": "5948f3bf-1455-4d3c-ee8f-c8b1eb458678"
      },
      "source": [
        "filtered_alerts.loc[POS[0]].tail()"
      ],
      "execution_count": null,
      "outputs": [
        {
          "output_type": "execute_result",
          "data": {
            "text/html": [
              "<div>\n",
              "<style scoped>\n",
              "    .dataframe tbody tr th:only-of-type {\n",
              "        vertical-align: middle;\n",
              "    }\n",
              "\n",
              "    .dataframe tbody tr th {\n",
              "        vertical-align: top;\n",
              "    }\n",
              "\n",
              "    .dataframe thead th {\n",
              "        text-align: right;\n",
              "    }\n",
              "</style>\n",
              "<table border=\"1\" class=\"dataframe\">\n",
              "  <thead>\n",
              "    <tr style=\"text-align: right;\">\n",
              "      <th></th>\n",
              "      <th>candid</th>\n",
              "      <th>fid</th>\n",
              "      <th>mjd</th>\n",
              "      <th>magpsf_corr</th>\n",
              "      <th>sigmapsf_corr</th>\n",
              "      <th>sigmapsf_corr_ext</th>\n",
              "    </tr>\n",
              "    <tr>\n",
              "      <th>oid</th>\n",
              "      <th></th>\n",
              "      <th></th>\n",
              "      <th></th>\n",
              "      <th></th>\n",
              "      <th></th>\n",
              "      <th></th>\n",
              "    </tr>\n",
              "  </thead>\n",
              "  <tbody>\n",
              "    <tr>\n",
              "      <th>ZTF18accqcwt</th>\n",
              "      <td>918462100615015000</td>\n",
              "      <td>2</td>\n",
              "      <td>58672.462106</td>\n",
              "      <td>18.783120</td>\n",
              "      <td>0.047196</td>\n",
              "      <td>0.049122</td>\n",
              "    </tr>\n",
              "    <tr>\n",
              "      <th>ZTF18accqcwt</th>\n",
              "      <td>703119680615010001</td>\n",
              "      <td>1</td>\n",
              "      <td>58457.119687</td>\n",
              "      <td>21.258444</td>\n",
              "      <td>1.045449</td>\n",
              "      <td>1.054233</td>\n",
              "    </tr>\n",
              "    <tr>\n",
              "      <th>ZTF18accqcwt</th>\n",
              "      <td>1027249160615015001</td>\n",
              "      <td>2</td>\n",
              "      <td>58781.249167</td>\n",
              "      <td>18.411440</td>\n",
              "      <td>0.086194</td>\n",
              "      <td>0.086736</td>\n",
              "    </tr>\n",
              "    <tr>\n",
              "      <th>ZTF18accqcwt</th>\n",
              "      <td>728095410615015001</td>\n",
              "      <td>2</td>\n",
              "      <td>58482.095417</td>\n",
              "      <td>18.096096</td>\n",
              "      <td>0.067301</td>\n",
              "      <td>0.067689</td>\n",
              "    </tr>\n",
              "    <tr>\n",
              "      <th>ZTF18accqcwt</th>\n",
              "      <td>1035206060615010001</td>\n",
              "      <td>1</td>\n",
              "      <td>58789.206065</td>\n",
              "      <td>21.784700</td>\n",
              "      <td>1.288545</td>\n",
              "      <td>1.307277</td>\n",
              "    </tr>\n",
              "  </tbody>\n",
              "</table>\n",
              "</div>"
            ],
            "text/plain": [
              "                           candid  fid  ...  sigmapsf_corr  sigmapsf_corr_ext\n",
              "oid                                     ...                                  \n",
              "ZTF18accqcwt   918462100615015000    2  ...       0.047196           0.049122\n",
              "ZTF18accqcwt   703119680615010001    1  ...       1.045449           1.054233\n",
              "ZTF18accqcwt  1027249160615015001    2  ...       0.086194           0.086736\n",
              "ZTF18accqcwt   728095410615015001    2  ...       0.067301           0.067689\n",
              "ZTF18accqcwt  1035206060615010001    1  ...       1.288545           1.307277\n",
              "\n",
              "[5 rows x 6 columns]"
            ]
          },
          "metadata": {},
          "execution_count": 9
        }
      ]
    },
    {
      "cell_type": "code",
      "metadata": {
        "colab": {
          "base_uri": "https://localhost:8080/",
          "height": 234
        },
        "id": "oND6L8vNxdvi",
        "outputId": "8a35ae2e-6ed7-4577-9be4-abf196258638"
      },
      "source": [
        "filtered_alerts.loc[DSCTS[0]].head()"
      ],
      "execution_count": null,
      "outputs": [
        {
          "output_type": "execute_result",
          "data": {
            "text/html": [
              "<div>\n",
              "<style scoped>\n",
              "    .dataframe tbody tr th:only-of-type {\n",
              "        vertical-align: middle;\n",
              "    }\n",
              "\n",
              "    .dataframe tbody tr th {\n",
              "        vertical-align: top;\n",
              "    }\n",
              "\n",
              "    .dataframe thead th {\n",
              "        text-align: right;\n",
              "    }\n",
              "</style>\n",
              "<table border=\"1\" class=\"dataframe\">\n",
              "  <thead>\n",
              "    <tr style=\"text-align: right;\">\n",
              "      <th></th>\n",
              "      <th>candid</th>\n",
              "      <th>fid</th>\n",
              "      <th>mjd</th>\n",
              "      <th>magpsf_corr</th>\n",
              "      <th>sigmapsf_corr</th>\n",
              "      <th>sigmapsf_corr_ext</th>\n",
              "    </tr>\n",
              "    <tr>\n",
              "      <th>oid</th>\n",
              "      <th></th>\n",
              "      <th></th>\n",
              "      <th></th>\n",
              "      <th></th>\n",
              "      <th></th>\n",
              "      <th></th>\n",
              "    </tr>\n",
              "  </thead>\n",
              "  <tbody>\n",
              "    <tr>\n",
              "      <th>ZTF18aavskgy</th>\n",
              "      <td>891295064115010001</td>\n",
              "      <td>2</td>\n",
              "      <td>58645.295069</td>\n",
              "      <td>14.181499</td>\n",
              "      <td>100.000000</td>\n",
              "      <td>0.013843</td>\n",
              "    </tr>\n",
              "    <tr>\n",
              "      <th>ZTF18aavskgy</th>\n",
              "      <td>920204944115015001</td>\n",
              "      <td>1</td>\n",
              "      <td>58674.204942</td>\n",
              "      <td>13.931778</td>\n",
              "      <td>0.003735</td>\n",
              "      <td>0.012135</td>\n",
              "    </tr>\n",
              "    <tr>\n",
              "      <th>ZTF18aavskgy</th>\n",
              "      <td>932189984115015004</td>\n",
              "      <td>1</td>\n",
              "      <td>58686.189988</td>\n",
              "      <td>13.945841</td>\n",
              "      <td>100.000000</td>\n",
              "      <td>0.008687</td>\n",
              "    </tr>\n",
              "    <tr>\n",
              "      <th>ZTF18aavskgy</th>\n",
              "      <td>840274574115015003</td>\n",
              "      <td>1</td>\n",
              "      <td>58594.274572</td>\n",
              "      <td>13.916053</td>\n",
              "      <td>100.000000</td>\n",
              "      <td>0.006170</td>\n",
              "    </tr>\n",
              "    <tr>\n",
              "      <th>ZTF18aavskgy</th>\n",
              "      <td>1119548254115010006</td>\n",
              "      <td>1</td>\n",
              "      <td>58873.548252</td>\n",
              "      <td>14.198402</td>\n",
              "      <td>100.000000</td>\n",
              "      <td>0.008883</td>\n",
              "    </tr>\n",
              "  </tbody>\n",
              "</table>\n",
              "</div>"
            ],
            "text/plain": [
              "                           candid  fid  ...  sigmapsf_corr  sigmapsf_corr_ext\n",
              "oid                                     ...                                  \n",
              "ZTF18aavskgy   891295064115010001    2  ...     100.000000           0.013843\n",
              "ZTF18aavskgy   920204944115015001    1  ...       0.003735           0.012135\n",
              "ZTF18aavskgy   932189984115015004    1  ...     100.000000           0.008687\n",
              "ZTF18aavskgy   840274574115015003    1  ...     100.000000           0.006170\n",
              "ZTF18aavskgy  1119548254115010006    1  ...     100.000000           0.008883\n",
              "\n",
              "[5 rows x 6 columns]"
            ]
          },
          "metadata": {},
          "execution_count": 10
        }
      ]
    },
    {
      "cell_type": "markdown",
      "metadata": {
        "id": "0ONE5dNuqHrn"
      },
      "source": [
        "### Preprocesamiento\n",
        "Ahora nos interesará darle a estos nuevos datos la forma necesaria para pasarlos por el notebook encargado de extraer las features. Para ello necesitamos generar 3 csv:\n",
        "- Curvas presentes (solo sus OID)\n",
        "- alerts_G (aquellas con fid 1)\n",
        "- alerts_R (aquellas con fid 2)\n"
      ]
    },
    {
      "cell_type": "code",
      "metadata": {
        "id": "kI_Y3WgYrtR9"
      },
      "source": [
        "# Para reproducibilidad: en caso de que los dataset no estén en el entorno\n",
        "!gdown --id 1LDtjNu-cNJRy6TIlTq8Jlhoyov6LmvSC #sintetics_CEPS.csv\n",
        "!gdown --id 1oHrfv3-8QVUaKzd9C_cFi5xOpmTXRr-P #sintetics_DSCTS.csv\n",
        "!gdown --id 1QkQhCCgu9VMRLomaO-Hn_XUoW9pyjX10 #sintetics_PeriodicOther.csv"
      ],
      "execution_count": null,
      "outputs": []
    },
    {
      "cell_type": "code",
      "metadata": {
        "id": "CTPRpsSnq6Gq"
      },
      "source": [
        "# Leemos los datasets\n",
        "sCEPS = pd.read_csv(\"sintetics_CEPS.csv\", index_col = 0)\n",
        "sDSCTS = pd.read_csv(\"sintetics_DSCTS.csv\", index_col = 0)\n",
        "sPOS = pd.read_csv(\"sintetics_PeriodicOther.csv\", index_col = 0)"
      ],
      "execution_count": null,
      "outputs": []
    },
    {
      "cell_type": "code",
      "metadata": {
        "colab": {
          "base_uri": "https://localhost:8080/",
          "height": 447
        },
        "id": "EHR5GiO7sGZv",
        "outputId": "59c3bfc7-57c7-4b0a-8d36-71d85806b86e"
      },
      "source": [
        "# Juntamos los datasets\n",
        "sintetics = pd.concat([sCEPS, sDSCTS, sPOS])\n",
        "sintetics"
      ],
      "execution_count": null,
      "outputs": [
        {
          "output_type": "execute_result",
          "data": {
            "text/html": [
              "<div>\n",
              "<style scoped>\n",
              "    .dataframe tbody tr th:only-of-type {\n",
              "        vertical-align: middle;\n",
              "    }\n",
              "\n",
              "    .dataframe tbody tr th {\n",
              "        vertical-align: top;\n",
              "    }\n",
              "\n",
              "    .dataframe thead th {\n",
              "        text-align: right;\n",
              "    }\n",
              "</style>\n",
              "<table border=\"1\" class=\"dataframe\">\n",
              "  <thead>\n",
              "    <tr style=\"text-align: right;\">\n",
              "      <th></th>\n",
              "      <th>candid</th>\n",
              "      <th>fid</th>\n",
              "      <th>mjd</th>\n",
              "      <th>magpsf_corr</th>\n",
              "      <th>sigmapsf_corr</th>\n",
              "      <th>sigmapsf_corr_ext</th>\n",
              "    </tr>\n",
              "    <tr>\n",
              "      <th>oid</th>\n",
              "      <th></th>\n",
              "      <th></th>\n",
              "      <th></th>\n",
              "      <th></th>\n",
              "      <th></th>\n",
              "      <th></th>\n",
              "    </tr>\n",
              "  </thead>\n",
              "  <tbody>\n",
              "    <tr>\n",
              "      <th>sinteticCEPS0</th>\n",
              "      <td>963378614515015001</td>\n",
              "      <td>1</td>\n",
              "      <td>59904.607096</td>\n",
              "      <td>22.680816</td>\n",
              "      <td>0.043460</td>\n",
              "      <td>0.463625</td>\n",
              "    </tr>\n",
              "    <tr>\n",
              "      <th>sinteticCEPS0</th>\n",
              "      <td>951393324515010003</td>\n",
              "      <td>1</td>\n",
              "      <td>59892.621807</td>\n",
              "      <td>23.308605</td>\n",
              "      <td>0.059855</td>\n",
              "      <td>0.483000</td>\n",
              "    </tr>\n",
              "    <tr>\n",
              "      <th>sinteticCEPS0</th>\n",
              "      <td>892439904515010001</td>\n",
              "      <td>1</td>\n",
              "      <td>59833.668392</td>\n",
              "      <td>23.291698</td>\n",
              "      <td>0.084891</td>\n",
              "      <td>0.506429</td>\n",
              "    </tr>\n",
              "    <tr>\n",
              "      <th>sinteticCEPS0</th>\n",
              "      <td>882421164515015000</td>\n",
              "      <td>2</td>\n",
              "      <td>59823.649654</td>\n",
              "      <td>22.431602</td>\n",
              "      <td>0.025708</td>\n",
              "      <td>0.446361</td>\n",
              "    </tr>\n",
              "    <tr>\n",
              "      <th>sinteticCEPS0</th>\n",
              "      <td>918422634515010002</td>\n",
              "      <td>1</td>\n",
              "      <td>59859.651124</td>\n",
              "      <td>23.277595</td>\n",
              "      <td>0.059055</td>\n",
              "      <td>0.481978</td>\n",
              "    </tr>\n",
              "    <tr>\n",
              "      <th>...</th>\n",
              "      <td>...</td>\n",
              "      <td>...</td>\n",
              "      <td>...</td>\n",
              "      <td>...</td>\n",
              "      <td>...</td>\n",
              "      <td>...</td>\n",
              "    </tr>\n",
              "    <tr>\n",
              "      <th>sinteticPeriodicOther1255</th>\n",
              "      <td>757493372015010002</td>\n",
              "      <td>1</td>\n",
              "      <td>60377.169357</td>\n",
              "      <td>31.406611</td>\n",
              "      <td>100.000000</td>\n",
              "      <td>0.264329</td>\n",
              "    </tr>\n",
              "    <tr>\n",
              "      <th>sinteticPeriodicOther1255</th>\n",
              "      <td>748541842015010000</td>\n",
              "      <td>2</td>\n",
              "      <td>60368.217818</td>\n",
              "      <td>30.045752</td>\n",
              "      <td>100.000000</td>\n",
              "      <td>0.256404</td>\n",
              "    </tr>\n",
              "    <tr>\n",
              "      <th>sinteticPeriodicOther1255</th>\n",
              "      <td>733498622015010001</td>\n",
              "      <td>1</td>\n",
              "      <td>60353.174600</td>\n",
              "      <td>31.435384</td>\n",
              "      <td>100.000000</td>\n",
              "      <td>0.263921</td>\n",
              "    </tr>\n",
              "    <tr>\n",
              "      <th>sinteticPeriodicOther1255</th>\n",
              "      <td>751540392015010000</td>\n",
              "      <td>2</td>\n",
              "      <td>60371.216371</td>\n",
              "      <td>30.033442</td>\n",
              "      <td>100.000000</td>\n",
              "      <td>0.256744</td>\n",
              "    </tr>\n",
              "    <tr>\n",
              "      <th>sinteticPeriodicOther1255</th>\n",
              "      <td>722510682015010001</td>\n",
              "      <td>2</td>\n",
              "      <td>60342.186660</td>\n",
              "      <td>30.020051</td>\n",
              "      <td>100.000000</td>\n",
              "      <td>0.257256</td>\n",
              "    </tr>\n",
              "  </tbody>\n",
              "</table>\n",
              "<p>246966 rows × 6 columns</p>\n",
              "</div>"
            ],
            "text/plain": [
              "                                       candid  ...  sigmapsf_corr_ext\n",
              "oid                                            ...                   \n",
              "sinteticCEPS0              963378614515015001  ...           0.463625\n",
              "sinteticCEPS0              951393324515010003  ...           0.483000\n",
              "sinteticCEPS0              892439904515010001  ...           0.506429\n",
              "sinteticCEPS0              882421164515015000  ...           0.446361\n",
              "sinteticCEPS0              918422634515010002  ...           0.481978\n",
              "...                                       ...  ...                ...\n",
              "sinteticPeriodicOther1255  757493372015010002  ...           0.264329\n",
              "sinteticPeriodicOther1255  748541842015010000  ...           0.256404\n",
              "sinteticPeriodicOther1255  733498622015010001  ...           0.263921\n",
              "sinteticPeriodicOther1255  751540392015010000  ...           0.256744\n",
              "sinteticPeriodicOther1255  722510682015010001  ...           0.257256\n",
              "\n",
              "[246966 rows x 6 columns]"
            ]
          },
          "metadata": {},
          "execution_count": 30
        }
      ]
    },
    {
      "cell_type": "code",
      "metadata": {
        "id": "sQrvI-Hatl1E"
      },
      "source": [
        "#Creamos curvas presentes\n",
        "present_curves = sintetics.index.unique()\n",
        "df = pd.DataFrame(present_curves.to_list())\n",
        "df.to_csv(\"present_curves_DA.csv\")"
      ],
      "execution_count": null,
      "outputs": []
    },
    {
      "cell_type": "code",
      "metadata": {
        "colab": {
          "base_uri": "https://localhost:8080/",
          "height": 234
        },
        "id": "TE3zPSKAsOLI",
        "outputId": "a99ae70c-8505-4617-e0de-99bfca606761"
      },
      "source": [
        "sintetics_G = sintetics[sintetics.fid==1]\n",
        "sintetics_GR = sintetics[sintetics.fid==3]\n",
        "sintetics_G = pd.concat([sintetics_G, sintetics_GR])\n",
        "sintetics_G.drop(axis=1, labels=['candid','sigmapsf_corr'], inplace=True)\n",
        "sintetics_G.rename(columns = {'fid':'band', 'mjd':'time', 'magpsf_corr':'magnitude', 'sigmapsf_corr_ext':'error'}, inplace=True)\n",
        "sintetics_G[\"band\"].replace({1: \"g\", 3:\"g\"}, inplace=True)\n",
        "sintetics_G.to_csv(\"sintetics_G.csv\")\n",
        "sintetics_G.head()"
      ],
      "execution_count": null,
      "outputs": [
        {
          "output_type": "execute_result",
          "data": {
            "text/html": [
              "<div>\n",
              "<style scoped>\n",
              "    .dataframe tbody tr th:only-of-type {\n",
              "        vertical-align: middle;\n",
              "    }\n",
              "\n",
              "    .dataframe tbody tr th {\n",
              "        vertical-align: top;\n",
              "    }\n",
              "\n",
              "    .dataframe thead th {\n",
              "        text-align: right;\n",
              "    }\n",
              "</style>\n",
              "<table border=\"1\" class=\"dataframe\">\n",
              "  <thead>\n",
              "    <tr style=\"text-align: right;\">\n",
              "      <th></th>\n",
              "      <th>band</th>\n",
              "      <th>time</th>\n",
              "      <th>magnitude</th>\n",
              "      <th>error</th>\n",
              "    </tr>\n",
              "    <tr>\n",
              "      <th>oid</th>\n",
              "      <th></th>\n",
              "      <th></th>\n",
              "      <th></th>\n",
              "      <th></th>\n",
              "    </tr>\n",
              "  </thead>\n",
              "  <tbody>\n",
              "    <tr>\n",
              "      <th>sinteticCEPS0</th>\n",
              "      <td>g</td>\n",
              "      <td>59904.607096</td>\n",
              "      <td>22.680816</td>\n",
              "      <td>0.463625</td>\n",
              "    </tr>\n",
              "    <tr>\n",
              "      <th>sinteticCEPS0</th>\n",
              "      <td>g</td>\n",
              "      <td>59892.621807</td>\n",
              "      <td>23.308605</td>\n",
              "      <td>0.483000</td>\n",
              "    </tr>\n",
              "    <tr>\n",
              "      <th>sinteticCEPS0</th>\n",
              "      <td>g</td>\n",
              "      <td>59833.668392</td>\n",
              "      <td>23.291698</td>\n",
              "      <td>0.506429</td>\n",
              "    </tr>\n",
              "    <tr>\n",
              "      <th>sinteticCEPS0</th>\n",
              "      <td>g</td>\n",
              "      <td>59859.651124</td>\n",
              "      <td>23.277595</td>\n",
              "      <td>0.481978</td>\n",
              "    </tr>\n",
              "    <tr>\n",
              "      <th>sinteticCEPS0</th>\n",
              "      <td>g</td>\n",
              "      <td>59880.628959</td>\n",
              "      <td>22.722849</td>\n",
              "      <td>0.455910</td>\n",
              "    </tr>\n",
              "  </tbody>\n",
              "</table>\n",
              "</div>"
            ],
            "text/plain": [
              "              band          time  magnitude     error\n",
              "oid                                                  \n",
              "sinteticCEPS0    g  59904.607096  22.680816  0.463625\n",
              "sinteticCEPS0    g  59892.621807  23.308605  0.483000\n",
              "sinteticCEPS0    g  59833.668392  23.291698  0.506429\n",
              "sinteticCEPS0    g  59859.651124  23.277595  0.481978\n",
              "sinteticCEPS0    g  59880.628959  22.722849  0.455910"
            ]
          },
          "metadata": {},
          "execution_count": 55
        }
      ]
    },
    {
      "cell_type": "code",
      "metadata": {
        "colab": {
          "base_uri": "https://localhost:8080/",
          "height": 234
        },
        "id": "y-gJ5WMWumUr",
        "outputId": "e410501d-c629-4e4e-d440-e651262ece3d"
      },
      "source": [
        "sintetics_R = sintetics[sintetics.fid==2]\n",
        "sintetics_R = pd.concat([sintetics_R, sintetics_GR])\n",
        "sintetics_R.drop(axis=1, labels=['candid','sigmapsf_corr'], inplace=True)\n",
        "sintetics_R.rename(columns = {'fid':'band', 'mjd':'time', 'magpsf_corr':'magnitude', 'sigmapsf_corr_ext':'error'}, inplace=True)\n",
        "sintetics_R[\"band\"].replace({2: \"r\", 3:\"r\"}, inplace=True)\n",
        "sintetics_R.to_csv(\"sintetics_R.csv\")\n",
        "sintetics_R.head()"
      ],
      "execution_count": null,
      "outputs": [
        {
          "output_type": "execute_result",
          "data": {
            "text/html": [
              "<div>\n",
              "<style scoped>\n",
              "    .dataframe tbody tr th:only-of-type {\n",
              "        vertical-align: middle;\n",
              "    }\n",
              "\n",
              "    .dataframe tbody tr th {\n",
              "        vertical-align: top;\n",
              "    }\n",
              "\n",
              "    .dataframe thead th {\n",
              "        text-align: right;\n",
              "    }\n",
              "</style>\n",
              "<table border=\"1\" class=\"dataframe\">\n",
              "  <thead>\n",
              "    <tr style=\"text-align: right;\">\n",
              "      <th></th>\n",
              "      <th>band</th>\n",
              "      <th>time</th>\n",
              "      <th>magnitude</th>\n",
              "      <th>error</th>\n",
              "    </tr>\n",
              "    <tr>\n",
              "      <th>oid</th>\n",
              "      <th></th>\n",
              "      <th></th>\n",
              "      <th></th>\n",
              "      <th></th>\n",
              "    </tr>\n",
              "  </thead>\n",
              "  <tbody>\n",
              "    <tr>\n",
              "      <th>sinteticCEPS0</th>\n",
              "      <td>r</td>\n",
              "      <td>59823.649654</td>\n",
              "      <td>22.431602</td>\n",
              "      <td>0.446361</td>\n",
              "    </tr>\n",
              "    <tr>\n",
              "      <th>sinteticCEPS0</th>\n",
              "      <td>r</td>\n",
              "      <td>59880.623867</td>\n",
              "      <td>22.460649</td>\n",
              "      <td>0.457252</td>\n",
              "    </tr>\n",
              "    <tr>\n",
              "      <th>sinteticCEPS0</th>\n",
              "      <td>r</td>\n",
              "      <td>59886.601297</td>\n",
              "      <td>22.823971</td>\n",
              "      <td>0.467276</td>\n",
              "    </tr>\n",
              "    <tr>\n",
              "      <th>sinteticCEPS1</th>\n",
              "      <td>r</td>\n",
              "      <td>74777.952457</td>\n",
              "      <td>141.130792</td>\n",
              "      <td>4.556493</td>\n",
              "    </tr>\n",
              "    <tr>\n",
              "      <th>sinteticCEPS1</th>\n",
              "      <td>r</td>\n",
              "      <td>74669.119274</td>\n",
              "      <td>140.675456</td>\n",
              "      <td>4.552446</td>\n",
              "    </tr>\n",
              "  </tbody>\n",
              "</table>\n",
              "</div>"
            ],
            "text/plain": [
              "              band          time   magnitude     error\n",
              "oid                                                   \n",
              "sinteticCEPS0    r  59823.649654   22.431602  0.446361\n",
              "sinteticCEPS0    r  59880.623867   22.460649  0.457252\n",
              "sinteticCEPS0    r  59886.601297   22.823971  0.467276\n",
              "sinteticCEPS1    r  74777.952457  141.130792  4.556493\n",
              "sinteticCEPS1    r  74669.119274  140.675456  4.552446"
            ]
          },
          "metadata": {},
          "execution_count": 54
        }
      ]
    },
    {
      "cell_type": "markdown",
      "metadata": {
        "id": "Xh7afjaAvf63"
      },
      "source": [
        "Con estos documentos generados, podemos volver a calcular features. No se generará otro notebook ni se reciclará el mismo puesto que el trabajo será análogo, salvo por algunos detalles que han mejorado ahora que tenemos más manejo de pandas:\n",
        "- Ya no es necesario eliminar la columna error, pues la borramos acá.\n",
        "- No es necesario renombrar las columnas, pues vienen con el nombre correcto. \n",
        "\n",
        "Tras realizar el data augmentation y obtener features para la data sintética, sigue el notebook de UMAP. \n"
      ]
    }
  ]
}